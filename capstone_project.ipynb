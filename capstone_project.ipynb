{
 "cells": [
  {
   "cell_type": "markdown",
   "metadata": {},
   "source": [
    "# **UDACITY DATA ENGINEERING CAPSTONE PROJECT**\n",
    "## **`BIKE SHARE AND TEMPERATURE IN CHICAGO`**\n",
    "\n",
    "### **Project Summary**\n",
    "This project aims to build up a data warehouse by integrating Divvy bike trip and temperature data together to provide a **`one-stop-shopping`** for OLAP and BI app to do analysis with these data sources. After lauching the data warehouse successfully, some data visualization and analysis will be done in order to get insight from the data.\n",
    "\n",
    "The project follows the follow steps:\n",
    "* Step 1: Scope the Project and Gather Data\n",
    "* Step 2: Explore and Assess the Data\n",
    "* Step 3: Define the Data Model\n",
    "* Step 4: Run ETL to Model the Data\n",
    "* Step 5: Complete Project Write Up"
   ]
  },
  {
   "cell_type": "code",
   "execution_count": 1,
   "metadata": {},
   "outputs": [],
   "source": [
    "import pandas as pd\n",
    "import glob\n",
    "import numpy as np\n",
    "import os\n",
    "import configparser\n",
    "import psycopg2\n",
    "import matplotlib.pyplot as plt\n",
    "import seaborn as sns\n",
    "from helper.quality_check import QualityCheck, sql_queries\n",
    "from io import StringIO\n",
    "from collections import OrderedDict"
   ]
  },
  {
   "cell_type": "markdown",
   "metadata": {},
   "source": [
    "## **Step 1: Scope the Project and Gather Data**\n",
    "### **Project Scope** \n",
    "#### **Objective**\n",
    "This project will integrate Divvy bike trip and Chicago temperature data in 2021 to setup a data warehouse with fact and dimension tables. From the data warehouse, we can easily answer some interesting business question:\n",
    "- How does the number of bike trips change in 2021 by monthly, daily, or hourly?\n",
    "- How does the average using time on each bike trip change in 2021 by monthly, daily or hourly?\n",
    "- Which station has the largest traffic during 2021?\n",
    "- What range of temperature does people in Chicago like to use bike the most?\n",
    "- How does the temperature effect the average using time on each bike trip?\n",
    "\n",
    "These answers can help Divvy bike share company know where and when they should increase the number of bikes to meet the demand, as well as the most favourite bike types in Chicago. In addition, insight from the effect of temperature can make the company understand more deeply about the customer behaviour.\n",
    "#### **Tool**\n",
    "- **`Python`** for doing ETL\n",
    "    - Pandas\n",
    "    - Numpy\n",
    "- **`PostgresSQL`** for data warehousing\n",
    "- **`Python`** for data visualization and analysis\n",
    "    - Matplotlib\n",
    "    - Seaborn\n",
    "### **Describe and Gather Data** \n",
    "#### **Data sources**\n",
    "- **`Bike trip data`** - Dataset contains information about all information about bike trip in Chicago 2021. The dataset comes from [Kaggle](https://www.kaggle.com/) and contains about **5.5 million** lines of data in **csv** format. \n",
    "- **`Temperature data`** - Dataset contains information about daily temperature in Chicago in 2021. The dataset comes from [Weather](https://www.weather.gov/) and contains **365** lines of data in **xlsx** format, represents for 365 days in 2021."
   ]
  },
  {
   "cell_type": "code",
   "execution_count": 2,
   "metadata": {},
   "outputs": [],
   "source": [
    "# function to get paths of the data\n",
    "get_data_paths = lambda folder_path, file_type: glob.glob(os.path.join(folder_path, '*.' + file_type))"
   ]
  },
  {
   "cell_type": "code",
   "execution_count": 3,
   "metadata": {},
   "outputs": [
    {
     "data": {
      "text/plain": [
       "['data/bike_trip\\\\202101-divvy-tripdata.csv',\n",
       " 'data/bike_trip\\\\202102-divvy-tripdata.csv',\n",
       " 'data/bike_trip\\\\202103-divvy-tripdata-1.csv',\n",
       " 'data/bike_trip\\\\202103-divvy-tripdata-2.csv',\n",
       " 'data/bike_trip\\\\202103-divvy-tripdata-3.csv',\n",
       " 'data/bike_trip\\\\202103-divvy-tripdata-4.csv',\n",
       " 'data/bike_trip\\\\202103-divvy-tripdata-5.csv',\n",
       " 'data/bike_trip\\\\202103-divvy-tripdata-6.csv',\n",
       " 'data/bike_trip\\\\202103-divvy-tripdata-7.csv',\n",
       " 'data/bike_trip\\\\202104-divvy-tripdata-1.csv',\n",
       " 'data/bike_trip\\\\202104-divvy-tripdata-2.csv',\n",
       " 'data/bike_trip\\\\202104-divvy-tripdata-3.csv',\n",
       " 'data/bike_trip\\\\202104-divvy-tripdata-4.csv',\n",
       " 'data/bike_trip\\\\202104-divvy-tripdata-5.csv',\n",
       " 'data/bike_trip\\\\202104-divvy-tripdata-6.csv',\n",
       " 'data/bike_trip\\\\202104-divvy-tripdata-7.csv',\n",
       " 'data/bike_trip\\\\202105-divvy-tripdata-1.csv',\n",
       " 'data/bike_trip\\\\202105-divvy-tripdata-2.csv',\n",
       " 'data/bike_trip\\\\202105-divvy-tripdata-3.csv',\n",
       " 'data/bike_trip\\\\202105-divvy-tripdata-4.csv',\n",
       " 'data/bike_trip\\\\202105-divvy-tripdata-5.csv',\n",
       " 'data/bike_trip\\\\202105-divvy-tripdata-6.csv',\n",
       " 'data/bike_trip\\\\202105-divvy-tripdata-7.csv',\n",
       " 'data/bike_trip\\\\202106-divvy-tripdata-1.csv',\n",
       " 'data/bike_trip\\\\202106-divvy-tripdata-2.csv',\n",
       " 'data/bike_trip\\\\202106-divvy-tripdata-3.csv',\n",
       " 'data/bike_trip\\\\202106-divvy-tripdata-4.csv',\n",
       " 'data/bike_trip\\\\202106-divvy-tripdata-5.csv',\n",
       " 'data/bike_trip\\\\202106-divvy-tripdata-6.csv',\n",
       " 'data/bike_trip\\\\202106-divvy-tripdata-7.csv',\n",
       " 'data/bike_trip\\\\202107-divvy-tripdata-1.csv',\n",
       " 'data/bike_trip\\\\202107-divvy-tripdata-2.csv',\n",
       " 'data/bike_trip\\\\202107-divvy-tripdata-3.csv',\n",
       " 'data/bike_trip\\\\202107-divvy-tripdata-4.csv',\n",
       " 'data/bike_trip\\\\202107-divvy-tripdata-5.csv',\n",
       " 'data/bike_trip\\\\202107-divvy-tripdata-6.csv',\n",
       " 'data/bike_trip\\\\202107-divvy-tripdata-7.csv',\n",
       " 'data/bike_trip\\\\202108-divvy-tripdata-1.csv',\n",
       " 'data/bike_trip\\\\202108-divvy-tripdata-2.csv',\n",
       " 'data/bike_trip\\\\202108-divvy-tripdata-3.csv',\n",
       " 'data/bike_trip\\\\202108-divvy-tripdata-4.csv',\n",
       " 'data/bike_trip\\\\202108-divvy-tripdata-5.csv',\n",
       " 'data/bike_trip\\\\202108-divvy-tripdata-6.csv',\n",
       " 'data/bike_trip\\\\202108-divvy-tripdata-7.csv',\n",
       " 'data/bike_trip\\\\202109-divvy-tripdata-1.csv',\n",
       " 'data/bike_trip\\\\202109-divvy-tripdata-2.csv',\n",
       " 'data/bike_trip\\\\202109-divvy-tripdata-3.csv',\n",
       " 'data/bike_trip\\\\202109-divvy-tripdata-4.csv',\n",
       " 'data/bike_trip\\\\202109-divvy-tripdata-5.csv',\n",
       " 'data/bike_trip\\\\202109-divvy-tripdata-6.csv',\n",
       " 'data/bike_trip\\\\202109-divvy-tripdata-7.csv',\n",
       " 'data/bike_trip\\\\202110-divvy-tripdata-1.csv',\n",
       " 'data/bike_trip\\\\202110-divvy-tripdata-2.csv',\n",
       " 'data/bike_trip\\\\202110-divvy-tripdata-3.csv',\n",
       " 'data/bike_trip\\\\202110-divvy-tripdata-4.csv',\n",
       " 'data/bike_trip\\\\202110-divvy-tripdata-5.csv',\n",
       " 'data/bike_trip\\\\202110-divvy-tripdata-6.csv',\n",
       " 'data/bike_trip\\\\202110-divvy-tripdata-7.csv',\n",
       " 'data/bike_trip\\\\202111-divvy-tripdata-1.csv',\n",
       " 'data/bike_trip\\\\202111-divvy-tripdata-2.csv',\n",
       " 'data/bike_trip\\\\202111-divvy-tripdata-3.csv',\n",
       " 'data/bike_trip\\\\202111-divvy-tripdata-4.csv',\n",
       " 'data/bike_trip\\\\202111-divvy-tripdata-5.csv',\n",
       " 'data/bike_trip\\\\202111-divvy-tripdata-6.csv',\n",
       " 'data/bike_trip\\\\202111-divvy-tripdata-7.csv',\n",
       " 'data/bike_trip\\\\202112-divvy-tripdata-1.csv',\n",
       " 'data/bike_trip\\\\202112-divvy-tripdata-2.csv',\n",
       " 'data/bike_trip\\\\202112-divvy-tripdata-3.csv',\n",
       " 'data/bike_trip\\\\202112-divvy-tripdata-4.csv',\n",
       " 'data/bike_trip\\\\202112-divvy-tripdata-5.csv',\n",
       " 'data/bike_trip\\\\202112-divvy-tripdata-6.csv',\n",
       " 'data/bike_trip\\\\202112-divvy-tripdata-7.csv']"
      ]
     },
     "execution_count": 3,
     "metadata": {},
     "output_type": "execute_result"
    }
   ],
   "source": [
    "trip_data_paths = get_data_paths(folder_path='data/bike_trip', file_type='csv')\n",
    "trip_data_paths"
   ]
  },
  {
   "cell_type": "code",
   "execution_count": 4,
   "metadata": {},
   "outputs": [
    {
     "data": {
      "text/html": [
       "<div>\n",
       "<style scoped>\n",
       "    .dataframe tbody tr th:only-of-type {\n",
       "        vertical-align: middle;\n",
       "    }\n",
       "\n",
       "    .dataframe tbody tr th {\n",
       "        vertical-align: top;\n",
       "    }\n",
       "\n",
       "    .dataframe thead th {\n",
       "        text-align: right;\n",
       "    }\n",
       "</style>\n",
       "<table border=\"1\" class=\"dataframe\">\n",
       "  <thead>\n",
       "    <tr style=\"text-align: right;\">\n",
       "      <th></th>\n",
       "      <th>ride_id</th>\n",
       "      <th>rideable_type</th>\n",
       "      <th>started_at</th>\n",
       "      <th>ended_at</th>\n",
       "      <th>start_station_name</th>\n",
       "      <th>start_station_id</th>\n",
       "      <th>end_station_name</th>\n",
       "      <th>end_station_id</th>\n",
       "      <th>start_lat</th>\n",
       "      <th>start_lng</th>\n",
       "      <th>end_lat</th>\n",
       "      <th>end_lng</th>\n",
       "      <th>member_casual</th>\n",
       "    </tr>\n",
       "  </thead>\n",
       "  <tbody>\n",
       "    <tr>\n",
       "      <th>0</th>\n",
       "      <td>E19E6F1B8D4C42ED</td>\n",
       "      <td>electric_bike</td>\n",
       "      <td>2021-01-23 16:14:19</td>\n",
       "      <td>2021-01-23 16:24:44</td>\n",
       "      <td>California Ave &amp; Cortez St</td>\n",
       "      <td>17660</td>\n",
       "      <td>NaN</td>\n",
       "      <td>NaN</td>\n",
       "      <td>41.900341</td>\n",
       "      <td>-87.696743</td>\n",
       "      <td>41.89</td>\n",
       "      <td>-87.72</td>\n",
       "      <td>member</td>\n",
       "    </tr>\n",
       "    <tr>\n",
       "      <th>1</th>\n",
       "      <td>DC88F20C2C55F27F</td>\n",
       "      <td>electric_bike</td>\n",
       "      <td>2021-01-27 18:43:08</td>\n",
       "      <td>2021-01-27 18:47:12</td>\n",
       "      <td>California Ave &amp; Cortez St</td>\n",
       "      <td>17660</td>\n",
       "      <td>NaN</td>\n",
       "      <td>NaN</td>\n",
       "      <td>41.900333</td>\n",
       "      <td>-87.696707</td>\n",
       "      <td>41.90</td>\n",
       "      <td>-87.69</td>\n",
       "      <td>member</td>\n",
       "    </tr>\n",
       "    <tr>\n",
       "      <th>2</th>\n",
       "      <td>EC45C94683FE3F27</td>\n",
       "      <td>electric_bike</td>\n",
       "      <td>2021-01-21 22:35:54</td>\n",
       "      <td>2021-01-21 22:37:14</td>\n",
       "      <td>California Ave &amp; Cortez St</td>\n",
       "      <td>17660</td>\n",
       "      <td>NaN</td>\n",
       "      <td>NaN</td>\n",
       "      <td>41.900313</td>\n",
       "      <td>-87.696643</td>\n",
       "      <td>41.90</td>\n",
       "      <td>-87.70</td>\n",
       "      <td>member</td>\n",
       "    </tr>\n",
       "    <tr>\n",
       "      <th>3</th>\n",
       "      <td>4FA453A75AE377DB</td>\n",
       "      <td>electric_bike</td>\n",
       "      <td>2021-01-07 13:31:13</td>\n",
       "      <td>2021-01-07 13:42:55</td>\n",
       "      <td>California Ave &amp; Cortez St</td>\n",
       "      <td>17660</td>\n",
       "      <td>NaN</td>\n",
       "      <td>NaN</td>\n",
       "      <td>41.900399</td>\n",
       "      <td>-87.696662</td>\n",
       "      <td>41.92</td>\n",
       "      <td>-87.69</td>\n",
       "      <td>member</td>\n",
       "    </tr>\n",
       "    <tr>\n",
       "      <th>4</th>\n",
       "      <td>BE5E8EB4E7263A0B</td>\n",
       "      <td>electric_bike</td>\n",
       "      <td>2021-01-23 02:24:02</td>\n",
       "      <td>2021-01-23 02:24:45</td>\n",
       "      <td>California Ave &amp; Cortez St</td>\n",
       "      <td>17660</td>\n",
       "      <td>NaN</td>\n",
       "      <td>NaN</td>\n",
       "      <td>41.900326</td>\n",
       "      <td>-87.696697</td>\n",
       "      <td>41.90</td>\n",
       "      <td>-87.70</td>\n",
       "      <td>casual</td>\n",
       "    </tr>\n",
       "  </tbody>\n",
       "</table>\n",
       "</div>"
      ],
      "text/plain": [
       "            ride_id  rideable_type           started_at             ended_at  \\\n",
       "0  E19E6F1B8D4C42ED  electric_bike  2021-01-23 16:14:19  2021-01-23 16:24:44   \n",
       "1  DC88F20C2C55F27F  electric_bike  2021-01-27 18:43:08  2021-01-27 18:47:12   \n",
       "2  EC45C94683FE3F27  electric_bike  2021-01-21 22:35:54  2021-01-21 22:37:14   \n",
       "3  4FA453A75AE377DB  electric_bike  2021-01-07 13:31:13  2021-01-07 13:42:55   \n",
       "4  BE5E8EB4E7263A0B  electric_bike  2021-01-23 02:24:02  2021-01-23 02:24:45   \n",
       "\n",
       "           start_station_name start_station_id end_station_name  \\\n",
       "0  California Ave & Cortez St            17660              NaN   \n",
       "1  California Ave & Cortez St            17660              NaN   \n",
       "2  California Ave & Cortez St            17660              NaN   \n",
       "3  California Ave & Cortez St            17660              NaN   \n",
       "4  California Ave & Cortez St            17660              NaN   \n",
       "\n",
       "  end_station_id  start_lat  start_lng  end_lat  end_lng member_casual  \n",
       "0            NaN  41.900341 -87.696743    41.89   -87.72        member  \n",
       "1            NaN  41.900333 -87.696707    41.90   -87.69        member  \n",
       "2            NaN  41.900313 -87.696643    41.90   -87.70        member  \n",
       "3            NaN  41.900399 -87.696662    41.92   -87.69        member  \n",
       "4            NaN  41.900326 -87.696697    41.90   -87.70        casual  "
      ]
     },
     "execution_count": 4,
     "metadata": {},
     "output_type": "execute_result"
    }
   ],
   "source": [
    "# Combine all bike trip data into 1 dataframe\n",
    "trip_df = pd.concat((pd.read_csv(path) for path in trip_data_paths), ignore_index=True)\n",
    "trip_df.head(5)"
   ]
  },
  {
   "cell_type": "code",
   "execution_count": 5,
   "metadata": {},
   "outputs": [
    {
     "data": {
      "text/plain": [
       "['data/temperature\\\\temp_data_2021_01.xlsx',\n",
       " 'data/temperature\\\\temp_data_2021_02.xlsx',\n",
       " 'data/temperature\\\\temp_data_2021_03.xlsx',\n",
       " 'data/temperature\\\\temp_data_2021_04.xlsx',\n",
       " 'data/temperature\\\\temp_data_2021_05.xlsx',\n",
       " 'data/temperature\\\\temp_data_2021_06.xlsx',\n",
       " 'data/temperature\\\\temp_data_2021_07.xlsx',\n",
       " 'data/temperature\\\\temp_data_2021_08.xlsx',\n",
       " 'data/temperature\\\\temp_data_2021_09.xlsx',\n",
       " 'data/temperature\\\\temp_data_2021_10.xlsx',\n",
       " 'data/temperature\\\\temp_data_2021_11.xlsx',\n",
       " 'data/temperature\\\\temp_data_2021_12.xlsx']"
      ]
     },
     "execution_count": 5,
     "metadata": {},
     "output_type": "execute_result"
    }
   ],
   "source": [
    "temp_data_paths = get_data_paths(folder_path='data/temperature', file_type='xlsx')\n",
    "temp_data_paths"
   ]
  },
  {
   "cell_type": "code",
   "execution_count": 6,
   "metadata": {},
   "outputs": [
    {
     "data": {
      "text/html": [
       "<div>\n",
       "<style scoped>\n",
       "    .dataframe tbody tr th:only-of-type {\n",
       "        vertical-align: middle;\n",
       "    }\n",
       "\n",
       "    .dataframe tbody tr th {\n",
       "        vertical-align: top;\n",
       "    }\n",
       "\n",
       "    .dataframe thead th {\n",
       "        text-align: right;\n",
       "    }\n",
       "</style>\n",
       "<table border=\"1\" class=\"dataframe\">\n",
       "  <thead>\n",
       "    <tr style=\"text-align: right;\">\n",
       "      <th></th>\n",
       "      <th>date</th>\n",
       "      <th>max_temp</th>\n",
       "      <th>min_temp</th>\n",
       "      <th>average_temp</th>\n",
       "    </tr>\n",
       "  </thead>\n",
       "  <tbody>\n",
       "    <tr>\n",
       "      <th>0</th>\n",
       "      <td>2021-01-01</td>\n",
       "      <td>35</td>\n",
       "      <td>19</td>\n",
       "      <td>27.0</td>\n",
       "    </tr>\n",
       "    <tr>\n",
       "      <th>1</th>\n",
       "      <td>2021-01-02</td>\n",
       "      <td>35</td>\n",
       "      <td>28</td>\n",
       "      <td>31.5</td>\n",
       "    </tr>\n",
       "    <tr>\n",
       "      <th>2</th>\n",
       "      <td>2021-01-03</td>\n",
       "      <td>33</td>\n",
       "      <td>26</td>\n",
       "      <td>29.5</td>\n",
       "    </tr>\n",
       "    <tr>\n",
       "      <th>3</th>\n",
       "      <td>2021-01-04</td>\n",
       "      <td>30</td>\n",
       "      <td>24</td>\n",
       "      <td>27.0</td>\n",
       "    </tr>\n",
       "    <tr>\n",
       "      <th>4</th>\n",
       "      <td>2021-01-05</td>\n",
       "      <td>37</td>\n",
       "      <td>29</td>\n",
       "      <td>33.0</td>\n",
       "    </tr>\n",
       "    <tr>\n",
       "      <th>5</th>\n",
       "      <td>2021-01-06</td>\n",
       "      <td>39</td>\n",
       "      <td>31</td>\n",
       "      <td>35.0</td>\n",
       "    </tr>\n",
       "    <tr>\n",
       "      <th>6</th>\n",
       "      <td>2021-01-07</td>\n",
       "      <td>38</td>\n",
       "      <td>33</td>\n",
       "      <td>35.5</td>\n",
       "    </tr>\n",
       "    <tr>\n",
       "      <th>7</th>\n",
       "      <td>2021-01-08</td>\n",
       "      <td>36</td>\n",
       "      <td>30</td>\n",
       "      <td>33.0</td>\n",
       "    </tr>\n",
       "    <tr>\n",
       "      <th>8</th>\n",
       "      <td>2021-01-09</td>\n",
       "      <td>37</td>\n",
       "      <td>28</td>\n",
       "      <td>32.5</td>\n",
       "    </tr>\n",
       "    <tr>\n",
       "      <th>9</th>\n",
       "      <td>2021-01-10</td>\n",
       "      <td>29</td>\n",
       "      <td>24</td>\n",
       "      <td>26.5</td>\n",
       "    </tr>\n",
       "  </tbody>\n",
       "</table>\n",
       "</div>"
      ],
      "text/plain": [
       "        date  max_temp  min_temp  average_temp\n",
       "0 2021-01-01        35        19          27.0\n",
       "1 2021-01-02        35        28          31.5\n",
       "2 2021-01-03        33        26          29.5\n",
       "3 2021-01-04        30        24          27.0\n",
       "4 2021-01-05        37        29          33.0\n",
       "5 2021-01-06        39        31          35.0\n",
       "6 2021-01-07        38        33          35.5\n",
       "7 2021-01-08        36        30          33.0\n",
       "8 2021-01-09        37        28          32.5\n",
       "9 2021-01-10        29        24          26.5"
      ]
     },
     "execution_count": 6,
     "metadata": {},
     "output_type": "execute_result"
    }
   ],
   "source": [
    "# Combine all temperature trip data into 1 dataframe\n",
    "temp_df = pd.concat((pd.read_excel(path, index_col=None) for path in temp_data_paths), ignore_index=True)\n",
    "temp_df.head(10)"
   ]
  },
  {
   "cell_type": "code",
   "execution_count": 7,
   "metadata": {},
   "outputs": [
    {
     "data": {
      "text/plain": [
       "ride_id                object\n",
       "rideable_type          object\n",
       "started_at             object\n",
       "ended_at               object\n",
       "start_station_name     object\n",
       "start_station_id       object\n",
       "end_station_name       object\n",
       "end_station_id         object\n",
       "start_lat             float64\n",
       "start_lng             float64\n",
       "end_lat               float64\n",
       "end_lng               float64\n",
       "member_casual          object\n",
       "dtype: object"
      ]
     },
     "execution_count": 7,
     "metadata": {},
     "output_type": "execute_result"
    }
   ],
   "source": [
    "trip_df.dtypes"
   ]
  },
  {
   "cell_type": "code",
   "execution_count": 8,
   "metadata": {},
   "outputs": [
    {
     "data": {
      "text/plain": [
       "(5595063, 13)"
      ]
     },
     "execution_count": 8,
     "metadata": {},
     "output_type": "execute_result"
    }
   ],
   "source": [
    "# Shape of trip dataframe\n",
    "trip_df.shape"
   ]
  },
  {
   "cell_type": "code",
   "execution_count": 9,
   "metadata": {},
   "outputs": [
    {
     "data": {
      "text/plain": [
       "date            datetime64[ns]\n",
       "max_temp                 int64\n",
       "min_temp                 int64\n",
       "average_temp           float64\n",
       "dtype: object"
      ]
     },
     "execution_count": 9,
     "metadata": {},
     "output_type": "execute_result"
    }
   ],
   "source": [
    "temp_df.dtypes"
   ]
  },
  {
   "cell_type": "code",
   "execution_count": 10,
   "metadata": {},
   "outputs": [
    {
     "data": {
      "text/plain": [
       "(365, 4)"
      ]
     },
     "execution_count": 10,
     "metadata": {},
     "output_type": "execute_result"
    }
   ],
   "source": [
    "# Shape of temperature dataframe\n",
    "temp_df.shape"
   ]
  },
  {
   "cell_type": "markdown",
   "metadata": {},
   "source": [
    "## **Step 2: Explore and Assess the Data**\n",
    "In order to track the progress easily, this project works on two steps (`exploring` the problem and `cleaning` the data) simultanously. \n",
    "### **Explore the Data** \n",
    "Identify data quality issues likes:\n",
    "- Null values\n",
    "- Inaproppriate data types and time data\n",
    "- Duplicates data\n",
    "### **Cleaning steps**\n",
    "- Eliminate Null or NaN values\n",
    "- Covert data type of columns \n",
    "- Eliminate values not in the time period (just in `2021`)\n",
    "- Eliminate records that don't have the same start and end date\n",
    "- Divide the raw dataframe into relevant dataframes following Star Schema method"
   ]
  },
  {
   "cell_type": "markdown",
   "metadata": {},
   "source": [
    "#### **`Process null values`**"
   ]
  },
  {
   "cell_type": "markdown",
   "metadata": {},
   "source": [
    "##### **Trip data**"
   ]
  },
  {
   "cell_type": "code",
   "execution_count": 11,
   "metadata": {},
   "outputs": [
    {
     "data": {
      "text/plain": [
       "ride_id                    0\n",
       "rideable_type              0\n",
       "started_at                 0\n",
       "ended_at                   0\n",
       "start_station_name    690809\n",
       "start_station_id      690806\n",
       "end_station_name      739170\n",
       "end_station_id        739170\n",
       "start_lat                  0\n",
       "start_lng                  0\n",
       "end_lat                 4771\n",
       "end_lng                 4771\n",
       "member_casual              0\n",
       "dtype: int64"
      ]
     },
     "execution_count": 11,
     "metadata": {},
     "output_type": "execute_result"
    }
   ],
   "source": [
    "trip_df.isnull().sum()"
   ]
  },
  {
   "cell_type": "markdown",
   "metadata": {},
   "source": [
    "- As we can see, there is a lot of null values in station columns. We can dropped this null values to make the data more reliable."
   ]
  },
  {
   "cell_type": "code",
   "execution_count": 12,
   "metadata": {},
   "outputs": [
    {
     "data": {
      "text/plain": [
       "ride_id               0\n",
       "rideable_type         0\n",
       "started_at            0\n",
       "ended_at              0\n",
       "start_station_name    0\n",
       "start_station_id      0\n",
       "end_station_name      0\n",
       "end_station_id        0\n",
       "start_lat             0\n",
       "start_lng             0\n",
       "end_lat               0\n",
       "end_lng               0\n",
       "member_casual         0\n",
       "dtype: int64"
      ]
     },
     "execution_count": 12,
     "metadata": {},
     "output_type": "execute_result"
    }
   ],
   "source": [
    "trip_df.dropna(inplace=True)\n",
    "trip_df.isnull().sum()"
   ]
  },
  {
   "cell_type": "code",
   "execution_count": 13,
   "metadata": {},
   "outputs": [
    {
     "data": {
      "text/plain": [
       "(4588302, 13)"
      ]
     },
     "execution_count": 13,
     "metadata": {},
     "output_type": "execute_result"
    }
   ],
   "source": [
    "# Size of trip data after eliminating null values\n",
    "trip_df.shape"
   ]
  },
  {
   "cell_type": "markdown",
   "metadata": {},
   "source": [
    "##### **Temperature data**"
   ]
  },
  {
   "cell_type": "code",
   "execution_count": 14,
   "metadata": {},
   "outputs": [
    {
     "data": {
      "text/plain": [
       "date            0\n",
       "max_temp        0\n",
       "min_temp        0\n",
       "average_temp    0\n",
       "dtype: int64"
      ]
     },
     "execution_count": 14,
     "metadata": {},
     "output_type": "execute_result"
    }
   ],
   "source": [
    "temp_df.isnull().sum()"
   ]
  },
  {
   "cell_type": "markdown",
   "metadata": {},
   "source": [
    "#### **`Change datatypes`**"
   ]
  },
  {
   "cell_type": "code",
   "execution_count": 15,
   "metadata": {},
   "outputs": [
    {
     "data": {
      "text/plain": [
       "ride_id                object\n",
       "rideable_type          object\n",
       "started_at             object\n",
       "ended_at               object\n",
       "start_station_name     object\n",
       "start_station_id       object\n",
       "end_station_name       object\n",
       "end_station_id         object\n",
       "start_lat             float64\n",
       "start_lng             float64\n",
       "end_lat               float64\n",
       "end_lng               float64\n",
       "member_casual          object\n",
       "dtype: object"
      ]
     },
     "execution_count": 15,
     "metadata": {},
     "output_type": "execute_result"
    }
   ],
   "source": [
    "trip_df.dtypes"
   ]
  },
  {
   "cell_type": "markdown",
   "metadata": {},
   "source": [
    "- From the result above, it's easy to regconize that the time columns (`started_at` and `ended_at`) are still in type of string. So we change the type of these columns into datetime object. The datetime datatypes allow us to extract the time data from these columns."
   ]
  },
  {
   "cell_type": "code",
   "execution_count": 16,
   "metadata": {},
   "outputs": [
    {
     "data": {
      "text/plain": [
       "ride_id                       object\n",
       "rideable_type                 object\n",
       "started_at            datetime64[ns]\n",
       "ended_at              datetime64[ns]\n",
       "start_station_name            object\n",
       "start_station_id              object\n",
       "end_station_name              object\n",
       "end_station_id                object\n",
       "start_lat                    float64\n",
       "start_lng                    float64\n",
       "end_lat                      float64\n",
       "end_lng                      float64\n",
       "member_casual                 object\n",
       "dtype: object"
      ]
     },
     "execution_count": 16,
     "metadata": {},
     "output_type": "execute_result"
    }
   ],
   "source": [
    "trip_df[['started_at', 'ended_at']] = trip_df[['started_at', 'ended_at']].apply(pd.to_datetime)\n",
    "trip_df.dtypes"
   ]
  },
  {
   "cell_type": "markdown",
   "metadata": {},
   "source": [
    "#### **`Eliminate values not in time period`** "
   ]
  },
  {
   "cell_type": "markdown",
   "metadata": {},
   "source": [
    "- Because the scope of this project is building a data warehouse for data in 2021. So we have to eliminate the records occuring before or after the year 2021."
   ]
  },
  {
   "cell_type": "markdown",
   "metadata": {},
   "source": [
    "##### **Check whether any values are before 2021**"
   ]
  },
  {
   "cell_type": "code",
   "execution_count": 17,
   "metadata": {},
   "outputs": [
    {
     "data": {
      "text/plain": [
       "False    4588302\n",
       "Name: started_at, dtype: int64"
      ]
     },
     "execution_count": 17,
     "metadata": {},
     "output_type": "execute_result"
    }
   ],
   "source": [
    "pd.Series(trip_df['started_at'].dt.year < 2021).value_counts()"
   ]
  },
  {
   "cell_type": "code",
   "execution_count": 18,
   "metadata": {},
   "outputs": [
    {
     "data": {
      "text/plain": [
       "False    4588302\n",
       "Name: ended_at, dtype: int64"
      ]
     },
     "execution_count": 18,
     "metadata": {},
     "output_type": "execute_result"
    }
   ],
   "source": [
    "pd.Series(trip_df['ended_at'].dt.year < 2021).value_counts()"
   ]
  },
  {
   "cell_type": "markdown",
   "metadata": {},
   "source": [
    "- There aren't any values before 2021 in our data."
   ]
  },
  {
   "cell_type": "markdown",
   "metadata": {},
   "source": [
    "##### **Check whether any values are after 2021**"
   ]
  },
  {
   "cell_type": "code",
   "execution_count": 19,
   "metadata": {},
   "outputs": [
    {
     "data": {
      "text/plain": [
       "False    4588302\n",
       "Name: started_at, dtype: int64"
      ]
     },
     "execution_count": 19,
     "metadata": {},
     "output_type": "execute_result"
    }
   ],
   "source": [
    "pd.Series(trip_df['started_at'].dt.year > 2021).value_counts()"
   ]
  },
  {
   "cell_type": "code",
   "execution_count": 20,
   "metadata": {},
   "outputs": [
    {
     "data": {
      "text/plain": [
       "False    4588248\n",
       "True          54\n",
       "Name: ended_at, dtype: int64"
      ]
     },
     "execution_count": 20,
     "metadata": {},
     "output_type": "execute_result"
    }
   ],
   "source": [
    "pd.Series(trip_df['ended_at'].dt.year > 2021).value_counts()"
   ]
  },
  {
   "cell_type": "markdown",
   "metadata": {},
   "source": [
    "- There are 54 values occurred after the year 2021. So we rule out these values."
   ]
  },
  {
   "cell_type": "markdown",
   "metadata": {},
   "source": [
    "##### **Eliminate the inappropriate values in **`ended_at`** columnn**"
   ]
  },
  {
   "cell_type": "code",
   "execution_count": 21,
   "metadata": {},
   "outputs": [],
   "source": [
    "trip_df = trip_df[trip_df['ended_at'].dt.year < 2022]"
   ]
  },
  {
   "cell_type": "code",
   "execution_count": 22,
   "metadata": {},
   "outputs": [
    {
     "data": {
      "text/plain": [
       "(4588248, 13)"
      ]
     },
     "execution_count": 22,
     "metadata": {},
     "output_type": "execute_result"
    }
   ],
   "source": [
    "trip_df.shape"
   ]
  },
  {
   "cell_type": "markdown",
   "metadata": {},
   "source": [
    "#### **`Eliminate bike trip didn't start and end on the same date`**"
   ]
  },
  {
   "cell_type": "markdown",
   "metadata": {},
   "source": [
    "- As the temperature dataset just contains the daily temperature. So we just need the trip started and ended in the same date, in order to fit with the temperature data."
   ]
  },
  {
   "cell_type": "markdown",
   "metadata": {},
   "source": [
    "##### **Check whether any rides didn't start and end in the same date**"
   ]
  },
  {
   "cell_type": "code",
   "execution_count": 23,
   "metadata": {},
   "outputs": [
    {
     "data": {
      "text/plain": [
       "True     4555485\n",
       "False      32763\n",
       "dtype: int64"
      ]
     },
     "execution_count": 23,
     "metadata": {},
     "output_type": "execute_result"
    }
   ],
   "source": [
    "pd.Series(trip_df['started_at'].dt.normalize() == trip_df['ended_at'].dt.normalize()).value_counts()"
   ]
  },
  {
   "cell_type": "markdown",
   "metadata": {},
   "source": [
    "- As we can see from the result above, there are `32763` rides that didn't start and end in the same date."
   ]
  },
  {
   "cell_type": "markdown",
   "metadata": {},
   "source": [
    "##### **Eliminate rides didn't start and end on the same date**"
   ]
  },
  {
   "cell_type": "code",
   "execution_count": 24,
   "metadata": {},
   "outputs": [
    {
     "data": {
      "text/plain": [
       "True    4555485\n",
       "dtype: int64"
      ]
     },
     "execution_count": 24,
     "metadata": {},
     "output_type": "execute_result"
    }
   ],
   "source": [
    "trip_df = trip_df[trip_df['started_at'].dt.normalize() == trip_df['ended_at'].dt.normalize()]\n",
    "pd.Series(trip_df['started_at'].dt.normalize() == trip_df['ended_at'].dt.normalize()).value_counts()"
   ]
  },
  {
   "cell_type": "markdown",
   "metadata": {},
   "source": [
    "## **Step 3: Define the Data Model**\n",
    "### **3.1 Conceptual Data Model**\n",
    "For the purpose of this data warehouse is provide one-stop-shopping place for OLAP and BI apps, we use Star schema to model our data. There are 1 fact table and 4 dimension tables as image below.\n",
    "<p align=\"center\">\n",
    "    <img src=\"./image/data_model.png\" width=\"50%\">\n",
    "</p>\n",
    "\n",
    "#### `Fact table`\n",
    "- **fact_trip**: Detail information about the bike trip.\n",
    "#### `Dimension table`\n",
    "- **dim_station**: Include information about the station.\n",
    "- **dim_time**: Include atomic data about the time.\n",
    "- **dim_bike_type**: Include information about bike type.\n",
    "- **dim_member_type**: Include information about the member type.\n",
    "\n",
    "### **3.2 Mapping Out Data Pipelines**\n",
    "To complete the data pipeline, several steps were taken:\n",
    "- Divide dataframe into smaller data frames and do transform to adapt the data model\n",
    "- Using COPY command and StringIO buffer (for the sake of speed) to load data into data warehouse\n",
    "- Doing data quality check"
   ]
  },
  {
   "cell_type": "markdown",
   "metadata": {},
   "source": [
    "## **Step 4: Run Pipelines to Model the Data** \n",
    "### **4.1 Create the data model**\n",
    "Build the data pipelines to create the data model.\n",
    "#### **4.1.1 Divide dataframe and transform to adapt Star Schema data model**\n",
    "##### **Table dim_station**\n",
    "- Create **`station`** dataframe"
   ]
  },
  {
   "cell_type": "code",
   "execution_count": 25,
   "metadata": {},
   "outputs": [
    {
     "data": {
      "text/plain": [
       "(9110970, 5)"
      ]
     },
     "execution_count": 25,
     "metadata": {},
     "output_type": "execute_result"
    }
   ],
   "source": [
    "start_station_df = trip_df[['start_station_id', 'start_station_name', 'start_lat', 'start_lng', 'started_at']]\n",
    "start_station_df = start_station_df.rename(columns={'start_station_id':'station_id', 'start_station_name':'station_name', \n",
    "                                                    'start_lat':'station_lat', 'start_lng':'station_lng', 'started_at': 'time'})\n",
    "end_station_df = trip_df[['end_station_id', 'end_station_name', 'end_lat', 'end_lng', 'ended_at']]\n",
    "end_station_df = end_station_df.rename(columns={'end_station_id':'station_id', 'end_station_name':'station_name', \n",
    "                                                'end_lat':'station_lat', 'end_lng':'station_lng', 'ended_at': 'time'})\n",
    "\n",
    "station_df = pd.concat((start_station_df, end_station_df), ignore_index=True).sort_values(by=['time'], ascending=True)\n",
    "station_df.shape"
   ]
  },
  {
   "cell_type": "markdown",
   "metadata": {},
   "source": [
    "- Address the change of **`station`** names in **`station_id`**\n",
    "\n",
    "    - In this session, there are some `station_id` having changes in name over time. We can use `Slowly Changing Dimemsion (SCD)` to deal with this situation. But in order to simplify, we just keep the lastest name of each station in this project. The `SCD` will be applied after further study on how to use `SCD`. "
   ]
  },
  {
   "cell_type": "code",
   "execution_count": 26,
   "metadata": {},
   "outputs": [
    {
     "data": {
      "text/plain": [
       "(832, 4)"
      ]
     },
     "execution_count": 26,
     "metadata": {},
     "output_type": "execute_result"
    }
   ],
   "source": [
    "station_df = station_df.drop_duplicates(subset=['station_id'], keep='last').drop(columns=['time'])\n",
    "station_df.shape"
   ]
  },
  {
   "cell_type": "code",
   "execution_count": 27,
   "metadata": {},
   "outputs": [
    {
     "data": {
      "text/html": [
       "<div>\n",
       "<style scoped>\n",
       "    .dataframe tbody tr th:only-of-type {\n",
       "        vertical-align: middle;\n",
       "    }\n",
       "\n",
       "    .dataframe tbody tr th {\n",
       "        vertical-align: top;\n",
       "    }\n",
       "\n",
       "    .dataframe thead th {\n",
       "        text-align: right;\n",
       "    }\n",
       "</style>\n",
       "<table border=\"1\" class=\"dataframe\">\n",
       "  <thead>\n",
       "    <tr style=\"text-align: right;\">\n",
       "      <th></th>\n",
       "      <th>station_id</th>\n",
       "      <th>station_name</th>\n",
       "      <th>station_lat</th>\n",
       "      <th>station_lng</th>\n",
       "    </tr>\n",
       "  </thead>\n",
       "  <tbody>\n",
       "    <tr>\n",
       "      <th>234898</th>\n",
       "      <td>20248.0</td>\n",
       "      <td>N Hampden Ct &amp; W Diversey Ave</td>\n",
       "      <td>41.930000</td>\n",
       "      <td>-87.64000</td>\n",
       "    </tr>\n",
       "    <tr>\n",
       "      <th>4884360</th>\n",
       "      <td>20258.0</td>\n",
       "      <td>N Damen Ave &amp; W Wabansia St</td>\n",
       "      <td>41.910000</td>\n",
       "      <td>-87.68000</td>\n",
       "    </tr>\n",
       "    <tr>\n",
       "      <th>1385803</th>\n",
       "      <td>20999</td>\n",
       "      <td>Lyft Driver Center Private Rack</td>\n",
       "      <td>41.900000</td>\n",
       "      <td>-87.66000</td>\n",
       "    </tr>\n",
       "    <tr>\n",
       "      <th>1812101</th>\n",
       "      <td>DIVVY CASSETTE REPAIR MOBILE STATION</td>\n",
       "      <td>DIVVY CASSETTE REPAIR MOBILE STATION</td>\n",
       "      <td>41.881039</td>\n",
       "      <td>-87.61673</td>\n",
       "    </tr>\n",
       "    <tr>\n",
       "      <th>8144164</th>\n",
       "      <td>20126</td>\n",
       "      <td>S Aberdeen St &amp; W 106th St</td>\n",
       "      <td>41.700000</td>\n",
       "      <td>-87.65000</td>\n",
       "    </tr>\n",
       "  </tbody>\n",
       "</table>\n",
       "</div>"
      ],
      "text/plain": [
       "                                   station_id  \\\n",
       "234898                                20248.0   \n",
       "4884360                               20258.0   \n",
       "1385803                                 20999   \n",
       "1812101  DIVVY CASSETTE REPAIR MOBILE STATION   \n",
       "8144164                                 20126   \n",
       "\n",
       "                                 station_name  station_lat  station_lng  \n",
       "234898          N Hampden Ct & W Diversey Ave    41.930000    -87.64000  \n",
       "4884360           N Damen Ave & W Wabansia St    41.910000    -87.68000  \n",
       "1385803       Lyft Driver Center Private Rack    41.900000    -87.66000  \n",
       "1812101  DIVVY CASSETTE REPAIR MOBILE STATION    41.881039    -87.61673  \n",
       "8144164            S Aberdeen St & W 106th St    41.700000    -87.65000  "
      ]
     },
     "execution_count": 27,
     "metadata": {},
     "output_type": "execute_result"
    }
   ],
   "source": [
    "station_df.head(5)"
   ]
  },
  {
   "cell_type": "markdown",
   "metadata": {},
   "source": [
    "##### **Table dim_bike_type**\n",
    "- Create **`bike_type`** dataframe"
   ]
  },
  {
   "cell_type": "code",
   "execution_count": 28,
   "metadata": {},
   "outputs": [
    {
     "data": {
      "text/html": [
       "<div>\n",
       "<style scoped>\n",
       "    .dataframe tbody tr th:only-of-type {\n",
       "        vertical-align: middle;\n",
       "    }\n",
       "\n",
       "    .dataframe tbody tr th {\n",
       "        vertical-align: top;\n",
       "    }\n",
       "\n",
       "    .dataframe thead th {\n",
       "        text-align: right;\n",
       "    }\n",
       "</style>\n",
       "<table border=\"1\" class=\"dataframe\">\n",
       "  <thead>\n",
       "    <tr style=\"text-align: right;\">\n",
       "      <th></th>\n",
       "      <th>bike_type_id</th>\n",
       "      <th>bike_type</th>\n",
       "    </tr>\n",
       "  </thead>\n",
       "  <tbody>\n",
       "    <tr>\n",
       "      <th>0</th>\n",
       "      <td>1</td>\n",
       "      <td>classic_bike</td>\n",
       "    </tr>\n",
       "    <tr>\n",
       "      <th>1</th>\n",
       "      <td>2</td>\n",
       "      <td>electric_bike</td>\n",
       "    </tr>\n",
       "    <tr>\n",
       "      <th>2</th>\n",
       "      <td>3</td>\n",
       "      <td>docked_bike</td>\n",
       "    </tr>\n",
       "  </tbody>\n",
       "</table>\n",
       "</div>"
      ],
      "text/plain": [
       "   bike_type_id      bike_type\n",
       "0             1   classic_bike\n",
       "1             2  electric_bike\n",
       "2             3    docked_bike"
      ]
     },
     "execution_count": 28,
     "metadata": {},
     "output_type": "execute_result"
    }
   ],
   "source": [
    "bike_type_data = [bike_type for bike_type in trip_df['rideable_type'].unique()]\n",
    "bike_type_df = pd.DataFrame({'bike_type_id': list(range(1, len(bike_type_data) + 1)), \n",
    "                            'bike_type': bike_type_data})\n",
    "bike_type_df"
   ]
  },
  {
   "cell_type": "markdown",
   "metadata": {},
   "source": [
    "##### **Table dim_time**\n",
    "- Create **`time`** dataframe"
   ]
  },
  {
   "cell_type": "code",
   "execution_count": 29,
   "metadata": {},
   "outputs": [
    {
     "name": "stderr",
     "output_type": "stream",
     "text": [
      "C:\\Users\\ASUS\\AppData\\Local\\Temp\\ipykernel_8472\\625595988.py:2: FutureWarning: The series.append method is deprecated and will be removed from pandas in a future version. Use pandas.concat instead.\n",
      "  time_data = trip_df['started_at'].append(trip_df['ended_at']).drop_duplicates()\n"
     ]
    }
   ],
   "source": [
    "time_extract_func = lambda x: [x, x.year, x.month, x.day, x.day_name(), x.hour]\n",
    "time_data = trip_df['started_at'].append(trip_df['ended_at']).drop_duplicates()\n",
    "time_extract = list(map(time_extract_func, time_data))"
   ]
  },
  {
   "cell_type": "code",
   "execution_count": 30,
   "metadata": {},
   "outputs": [
    {
     "data": {
      "text/html": [
       "<div>\n",
       "<style scoped>\n",
       "    .dataframe tbody tr th:only-of-type {\n",
       "        vertical-align: middle;\n",
       "    }\n",
       "\n",
       "    .dataframe tbody tr th {\n",
       "        vertical-align: top;\n",
       "    }\n",
       "\n",
       "    .dataframe thead th {\n",
       "        text-align: right;\n",
       "    }\n",
       "</style>\n",
       "<table border=\"1\" class=\"dataframe\">\n",
       "  <thead>\n",
       "    <tr style=\"text-align: right;\">\n",
       "      <th></th>\n",
       "      <th>time</th>\n",
       "      <th>year</th>\n",
       "      <th>month</th>\n",
       "      <th>date</th>\n",
       "      <th>weekday</th>\n",
       "      <th>hour</th>\n",
       "    </tr>\n",
       "  </thead>\n",
       "  <tbody>\n",
       "    <tr>\n",
       "      <th>0</th>\n",
       "      <td>2021-01-24 19:15:38</td>\n",
       "      <td>2021</td>\n",
       "      <td>1</td>\n",
       "      <td>24</td>\n",
       "      <td>Sunday</td>\n",
       "      <td>19</td>\n",
       "    </tr>\n",
       "    <tr>\n",
       "      <th>1</th>\n",
       "      <td>2021-01-23 12:57:38</td>\n",
       "      <td>2021</td>\n",
       "      <td>1</td>\n",
       "      <td>23</td>\n",
       "      <td>Saturday</td>\n",
       "      <td>12</td>\n",
       "    </tr>\n",
       "    <tr>\n",
       "      <th>2</th>\n",
       "      <td>2021-01-09 15:28:04</td>\n",
       "      <td>2021</td>\n",
       "      <td>1</td>\n",
       "      <td>9</td>\n",
       "      <td>Saturday</td>\n",
       "      <td>15</td>\n",
       "    </tr>\n",
       "    <tr>\n",
       "      <th>3</th>\n",
       "      <td>2021-01-09 15:28:57</td>\n",
       "      <td>2021</td>\n",
       "      <td>1</td>\n",
       "      <td>9</td>\n",
       "      <td>Saturday</td>\n",
       "      <td>15</td>\n",
       "    </tr>\n",
       "    <tr>\n",
       "      <th>4</th>\n",
       "      <td>2021-01-24 15:56:59</td>\n",
       "      <td>2021</td>\n",
       "      <td>1</td>\n",
       "      <td>24</td>\n",
       "      <td>Sunday</td>\n",
       "      <td>15</td>\n",
       "    </tr>\n",
       "    <tr>\n",
       "      <th>5</th>\n",
       "      <td>2021-01-22 15:15:28</td>\n",
       "      <td>2021</td>\n",
       "      <td>1</td>\n",
       "      <td>22</td>\n",
       "      <td>Friday</td>\n",
       "      <td>15</td>\n",
       "    </tr>\n",
       "    <tr>\n",
       "      <th>6</th>\n",
       "      <td>2021-01-05 10:33:12</td>\n",
       "      <td>2021</td>\n",
       "      <td>1</td>\n",
       "      <td>5</td>\n",
       "      <td>Tuesday</td>\n",
       "      <td>10</td>\n",
       "    </tr>\n",
       "    <tr>\n",
       "      <th>7</th>\n",
       "      <td>2021-01-30 11:59:16</td>\n",
       "      <td>2021</td>\n",
       "      <td>1</td>\n",
       "      <td>30</td>\n",
       "      <td>Saturday</td>\n",
       "      <td>11</td>\n",
       "    </tr>\n",
       "    <tr>\n",
       "      <th>8</th>\n",
       "      <td>2021-01-27 07:27:09</td>\n",
       "      <td>2021</td>\n",
       "      <td>1</td>\n",
       "      <td>27</td>\n",
       "      <td>Wednesday</td>\n",
       "      <td>7</td>\n",
       "    </tr>\n",
       "    <tr>\n",
       "      <th>9</th>\n",
       "      <td>2021-01-15 08:54:41</td>\n",
       "      <td>2021</td>\n",
       "      <td>1</td>\n",
       "      <td>15</td>\n",
       "      <td>Friday</td>\n",
       "      <td>8</td>\n",
       "    </tr>\n",
       "  </tbody>\n",
       "</table>\n",
       "</div>"
      ],
      "text/plain": [
       "                 time  year  month  date    weekday  hour\n",
       "0 2021-01-24 19:15:38  2021      1    24     Sunday    19\n",
       "1 2021-01-23 12:57:38  2021      1    23   Saturday    12\n",
       "2 2021-01-09 15:28:04  2021      1     9   Saturday    15\n",
       "3 2021-01-09 15:28:57  2021      1     9   Saturday    15\n",
       "4 2021-01-24 15:56:59  2021      1    24     Sunday    15\n",
       "5 2021-01-22 15:15:28  2021      1    22     Friday    15\n",
       "6 2021-01-05 10:33:12  2021      1     5    Tuesday    10\n",
       "7 2021-01-30 11:59:16  2021      1    30   Saturday    11\n",
       "8 2021-01-27 07:27:09  2021      1    27  Wednesday     7\n",
       "9 2021-01-15 08:54:41  2021      1    15     Friday     8"
      ]
     },
     "execution_count": 30,
     "metadata": {},
     "output_type": "execute_result"
    }
   ],
   "source": [
    "time_cols = ['time', 'year', 'month', 'date', 'weekday', 'hour']\n",
    "time_df = pd.DataFrame(time_extract, columns=time_cols)\n",
    "time_df.head(10)"
   ]
  },
  {
   "cell_type": "markdown",
   "metadata": {},
   "source": [
    "##### **Table dim_member_type**\n",
    "- Create **`member_type`** dataframe"
   ]
  },
  {
   "cell_type": "code",
   "execution_count": 31,
   "metadata": {},
   "outputs": [
    {
     "data": {
      "text/html": [
       "<div>\n",
       "<style scoped>\n",
       "    .dataframe tbody tr th:only-of-type {\n",
       "        vertical-align: middle;\n",
       "    }\n",
       "\n",
       "    .dataframe tbody tr th {\n",
       "        vertical-align: top;\n",
       "    }\n",
       "\n",
       "    .dataframe thead th {\n",
       "        text-align: right;\n",
       "    }\n",
       "</style>\n",
       "<table border=\"1\" class=\"dataframe\">\n",
       "  <thead>\n",
       "    <tr style=\"text-align: right;\">\n",
       "      <th></th>\n",
       "      <th>member_type_id</th>\n",
       "      <th>member_type</th>\n",
       "    </tr>\n",
       "  </thead>\n",
       "  <tbody>\n",
       "    <tr>\n",
       "      <th>0</th>\n",
       "      <td>1</td>\n",
       "      <td>member</td>\n",
       "    </tr>\n",
       "    <tr>\n",
       "      <th>1</th>\n",
       "      <td>2</td>\n",
       "      <td>casual</td>\n",
       "    </tr>\n",
       "  </tbody>\n",
       "</table>\n",
       "</div>"
      ],
      "text/plain": [
       "   member_type_id member_type\n",
       "0               1      member\n",
       "1               2      casual"
      ]
     },
     "execution_count": 31,
     "metadata": {},
     "output_type": "execute_result"
    }
   ],
   "source": [
    "member_type_data = [member_type for member_type in trip_df['member_casual'].unique()]\n",
    "member_type_df = pd.DataFrame({'member_type_id': list(range(1, len(member_type_data) + 1)),\n",
    "                        'member_type': member_type_data})\n",
    "member_type_df"
   ]
  },
  {
   "cell_type": "markdown",
   "metadata": {},
   "source": [
    "##### **Table fact_trip table**\n",
    "- Drop unrelevant columns"
   ]
  },
  {
   "cell_type": "code",
   "execution_count": 32,
   "metadata": {},
   "outputs": [],
   "source": [
    "trip_df = trip_df.drop(['start_station_name', 'end_station_name', \n",
    "                        'start_lat', 'start_lng', 'end_lat', 'end_lng'], axis=1)"
   ]
  },
  {
   "cell_type": "markdown",
   "metadata": {},
   "source": [
    "- Add temperature data into trip data"
   ]
  },
  {
   "cell_type": "code",
   "execution_count": 33,
   "metadata": {},
   "outputs": [
    {
     "data": {
      "text/html": [
       "<div>\n",
       "<style scoped>\n",
       "    .dataframe tbody tr th:only-of-type {\n",
       "        vertical-align: middle;\n",
       "    }\n",
       "\n",
       "    .dataframe tbody tr th {\n",
       "        vertical-align: top;\n",
       "    }\n",
       "\n",
       "    .dataframe thead th {\n",
       "        text-align: right;\n",
       "    }\n",
       "</style>\n",
       "<table border=\"1\" class=\"dataframe\">\n",
       "  <thead>\n",
       "    <tr style=\"text-align: right;\">\n",
       "      <th></th>\n",
       "      <th>ride_id</th>\n",
       "      <th>rideable_type</th>\n",
       "      <th>started_at</th>\n",
       "      <th>ended_at</th>\n",
       "      <th>start_station_id</th>\n",
       "      <th>end_station_id</th>\n",
       "      <th>member_casual</th>\n",
       "      <th>trip_date</th>\n",
       "    </tr>\n",
       "  </thead>\n",
       "  <tbody>\n",
       "    <tr>\n",
       "      <th>9</th>\n",
       "      <td>B9F73448DFBE0D45</td>\n",
       "      <td>classic_bike</td>\n",
       "      <td>2021-01-24 19:15:38</td>\n",
       "      <td>2021-01-24 19:22:51</td>\n",
       "      <td>17660</td>\n",
       "      <td>657</td>\n",
       "      <td>member</td>\n",
       "      <td>2021-01-24</td>\n",
       "    </tr>\n",
       "    <tr>\n",
       "      <th>10</th>\n",
       "      <td>457C7F4B5D3DA135</td>\n",
       "      <td>electric_bike</td>\n",
       "      <td>2021-01-23 12:57:38</td>\n",
       "      <td>2021-01-23 13:02:10</td>\n",
       "      <td>17660</td>\n",
       "      <td>13258</td>\n",
       "      <td>member</td>\n",
       "      <td>2021-01-23</td>\n",
       "    </tr>\n",
       "    <tr>\n",
       "      <th>11</th>\n",
       "      <td>57C750326F9FDABE</td>\n",
       "      <td>electric_bike</td>\n",
       "      <td>2021-01-09 15:28:04</td>\n",
       "      <td>2021-01-09 15:37:51</td>\n",
       "      <td>17660</td>\n",
       "      <td>657</td>\n",
       "      <td>casual</td>\n",
       "      <td>2021-01-09</td>\n",
       "    </tr>\n",
       "    <tr>\n",
       "      <th>12</th>\n",
       "      <td>4D518C65E338D070</td>\n",
       "      <td>electric_bike</td>\n",
       "      <td>2021-01-09 15:28:57</td>\n",
       "      <td>2021-01-09 15:37:54</td>\n",
       "      <td>17660</td>\n",
       "      <td>657</td>\n",
       "      <td>casual</td>\n",
       "      <td>2021-01-09</td>\n",
       "    </tr>\n",
       "    <tr>\n",
       "      <th>13</th>\n",
       "      <td>9D08A3AFF410474D</td>\n",
       "      <td>classic_bike</td>\n",
       "      <td>2021-01-24 15:56:59</td>\n",
       "      <td>2021-01-24 16:07:08</td>\n",
       "      <td>17660</td>\n",
       "      <td>657</td>\n",
       "      <td>casual</td>\n",
       "      <td>2021-01-24</td>\n",
       "    </tr>\n",
       "  </tbody>\n",
       "</table>\n",
       "</div>"
      ],
      "text/plain": [
       "             ride_id  rideable_type          started_at            ended_at  \\\n",
       "9   B9F73448DFBE0D45   classic_bike 2021-01-24 19:15:38 2021-01-24 19:22:51   \n",
       "10  457C7F4B5D3DA135  electric_bike 2021-01-23 12:57:38 2021-01-23 13:02:10   \n",
       "11  57C750326F9FDABE  electric_bike 2021-01-09 15:28:04 2021-01-09 15:37:51   \n",
       "12  4D518C65E338D070  electric_bike 2021-01-09 15:28:57 2021-01-09 15:37:54   \n",
       "13  9D08A3AFF410474D   classic_bike 2021-01-24 15:56:59 2021-01-24 16:07:08   \n",
       "\n",
       "   start_station_id end_station_id member_casual  trip_date  \n",
       "9             17660            657        member 2021-01-24  \n",
       "10            17660          13258        member 2021-01-23  \n",
       "11            17660            657        casual 2021-01-09  \n",
       "12            17660            657        casual 2021-01-09  \n",
       "13            17660            657        casual 2021-01-24  "
      ]
     },
     "execution_count": 33,
     "metadata": {},
     "output_type": "execute_result"
    }
   ],
   "source": [
    "trip_df['trip_date'] = trip_df['started_at'].dt.normalize()\n",
    "trip_df.head(5)"
   ]
  },
  {
   "cell_type": "code",
   "execution_count": 34,
   "metadata": {},
   "outputs": [
    {
     "data": {
      "text/html": [
       "<div>\n",
       "<style scoped>\n",
       "    .dataframe tbody tr th:only-of-type {\n",
       "        vertical-align: middle;\n",
       "    }\n",
       "\n",
       "    .dataframe tbody tr th {\n",
       "        vertical-align: top;\n",
       "    }\n",
       "\n",
       "    .dataframe thead th {\n",
       "        text-align: right;\n",
       "    }\n",
       "</style>\n",
       "<table border=\"1\" class=\"dataframe\">\n",
       "  <thead>\n",
       "    <tr style=\"text-align: right;\">\n",
       "      <th></th>\n",
       "      <th>ride_id</th>\n",
       "      <th>rideable_type</th>\n",
       "      <th>started_at</th>\n",
       "      <th>ended_at</th>\n",
       "      <th>start_station_id</th>\n",
       "      <th>end_station_id</th>\n",
       "      <th>member_casual</th>\n",
       "      <th>average_temp</th>\n",
       "    </tr>\n",
       "  </thead>\n",
       "  <tbody>\n",
       "    <tr>\n",
       "      <th>0</th>\n",
       "      <td>B9F73448DFBE0D45</td>\n",
       "      <td>classic_bike</td>\n",
       "      <td>2021-01-24 19:15:38</td>\n",
       "      <td>2021-01-24 19:22:51</td>\n",
       "      <td>17660</td>\n",
       "      <td>657</td>\n",
       "      <td>member</td>\n",
       "      <td>30.5</td>\n",
       "    </tr>\n",
       "    <tr>\n",
       "      <th>1</th>\n",
       "      <td>9D08A3AFF410474D</td>\n",
       "      <td>classic_bike</td>\n",
       "      <td>2021-01-24 15:56:59</td>\n",
       "      <td>2021-01-24 16:07:08</td>\n",
       "      <td>17660</td>\n",
       "      <td>657</td>\n",
       "      <td>casual</td>\n",
       "      <td>30.5</td>\n",
       "    </tr>\n",
       "    <tr>\n",
       "      <th>2</th>\n",
       "      <td>43DB7DCE2339EC6D</td>\n",
       "      <td>classic_bike</td>\n",
       "      <td>2021-01-24 13:45:19</td>\n",
       "      <td>2021-01-24 14:14:38</td>\n",
       "      <td>17660</td>\n",
       "      <td>TA1309000058</td>\n",
       "      <td>member</td>\n",
       "      <td>30.5</td>\n",
       "    </tr>\n",
       "    <tr>\n",
       "      <th>3</th>\n",
       "      <td>566DC7E87184417D</td>\n",
       "      <td>classic_bike</td>\n",
       "      <td>2021-01-24 10:11:38</td>\n",
       "      <td>2021-01-24 10:22:01</td>\n",
       "      <td>15623</td>\n",
       "      <td>TA1309000066</td>\n",
       "      <td>member</td>\n",
       "      <td>30.5</td>\n",
       "    </tr>\n",
       "    <tr>\n",
       "      <th>4</th>\n",
       "      <td>230BD5A777C9CB90</td>\n",
       "      <td>classic_bike</td>\n",
       "      <td>2021-01-24 15:09:35</td>\n",
       "      <td>2021-01-24 15:14:39</td>\n",
       "      <td>TA1307000038</td>\n",
       "      <td>TA1308000049</td>\n",
       "      <td>member</td>\n",
       "      <td>30.5</td>\n",
       "    </tr>\n",
       "  </tbody>\n",
       "</table>\n",
       "</div>"
      ],
      "text/plain": [
       "            ride_id rideable_type          started_at            ended_at  \\\n",
       "0  B9F73448DFBE0D45  classic_bike 2021-01-24 19:15:38 2021-01-24 19:22:51   \n",
       "1  9D08A3AFF410474D  classic_bike 2021-01-24 15:56:59 2021-01-24 16:07:08   \n",
       "2  43DB7DCE2339EC6D  classic_bike 2021-01-24 13:45:19 2021-01-24 14:14:38   \n",
       "3  566DC7E87184417D  classic_bike 2021-01-24 10:11:38 2021-01-24 10:22:01   \n",
       "4  230BD5A777C9CB90  classic_bike 2021-01-24 15:09:35 2021-01-24 15:14:39   \n",
       "\n",
       "  start_station_id end_station_id member_casual  average_temp  \n",
       "0            17660            657        member          30.5  \n",
       "1            17660            657        casual          30.5  \n",
       "2            17660   TA1309000058        member          30.5  \n",
       "3            15623   TA1309000066        member          30.5  \n",
       "4     TA1307000038   TA1308000049        member          30.5  "
      ]
     },
     "execution_count": 34,
     "metadata": {},
     "output_type": "execute_result"
    }
   ],
   "source": [
    "trip_df = pd.merge(trip_df, temp_df, left_on='trip_date', right_on='date', how='inner').drop(['trip_date', 'max_temp', \n",
    "                                                                                                'min_temp', 'date'], axis=1)\n",
    "trip_df.head(5)"
   ]
  },
  {
   "cell_type": "markdown",
   "metadata": {},
   "source": [
    "- Add trip duration into trip dataframe"
   ]
  },
  {
   "cell_type": "code",
   "execution_count": 35,
   "metadata": {},
   "outputs": [
    {
     "data": {
      "text/html": [
       "<div>\n",
       "<style scoped>\n",
       "    .dataframe tbody tr th:only-of-type {\n",
       "        vertical-align: middle;\n",
       "    }\n",
       "\n",
       "    .dataframe tbody tr th {\n",
       "        vertical-align: top;\n",
       "    }\n",
       "\n",
       "    .dataframe thead th {\n",
       "        text-align: right;\n",
       "    }\n",
       "</style>\n",
       "<table border=\"1\" class=\"dataframe\">\n",
       "  <thead>\n",
       "    <tr style=\"text-align: right;\">\n",
       "      <th></th>\n",
       "      <th>ride_id</th>\n",
       "      <th>rideable_type</th>\n",
       "      <th>started_at</th>\n",
       "      <th>ended_at</th>\n",
       "      <th>start_station_id</th>\n",
       "      <th>end_station_id</th>\n",
       "      <th>member_casual</th>\n",
       "      <th>average_temp</th>\n",
       "      <th>duration</th>\n",
       "    </tr>\n",
       "  </thead>\n",
       "  <tbody>\n",
       "    <tr>\n",
       "      <th>0</th>\n",
       "      <td>B9F73448DFBE0D45</td>\n",
       "      <td>classic_bike</td>\n",
       "      <td>2021-01-24 19:15:38</td>\n",
       "      <td>2021-01-24 19:22:51</td>\n",
       "      <td>17660</td>\n",
       "      <td>657</td>\n",
       "      <td>member</td>\n",
       "      <td>30.5</td>\n",
       "      <td>7.0</td>\n",
       "    </tr>\n",
       "    <tr>\n",
       "      <th>1</th>\n",
       "      <td>9D08A3AFF410474D</td>\n",
       "      <td>classic_bike</td>\n",
       "      <td>2021-01-24 15:56:59</td>\n",
       "      <td>2021-01-24 16:07:08</td>\n",
       "      <td>17660</td>\n",
       "      <td>657</td>\n",
       "      <td>casual</td>\n",
       "      <td>30.5</td>\n",
       "      <td>10.0</td>\n",
       "    </tr>\n",
       "    <tr>\n",
       "      <th>2</th>\n",
       "      <td>43DB7DCE2339EC6D</td>\n",
       "      <td>classic_bike</td>\n",
       "      <td>2021-01-24 13:45:19</td>\n",
       "      <td>2021-01-24 14:14:38</td>\n",
       "      <td>17660</td>\n",
       "      <td>TA1309000058</td>\n",
       "      <td>member</td>\n",
       "      <td>30.5</td>\n",
       "      <td>29.0</td>\n",
       "    </tr>\n",
       "    <tr>\n",
       "      <th>3</th>\n",
       "      <td>566DC7E87184417D</td>\n",
       "      <td>classic_bike</td>\n",
       "      <td>2021-01-24 10:11:38</td>\n",
       "      <td>2021-01-24 10:22:01</td>\n",
       "      <td>15623</td>\n",
       "      <td>TA1309000066</td>\n",
       "      <td>member</td>\n",
       "      <td>30.5</td>\n",
       "      <td>10.0</td>\n",
       "    </tr>\n",
       "    <tr>\n",
       "      <th>4</th>\n",
       "      <td>230BD5A777C9CB90</td>\n",
       "      <td>classic_bike</td>\n",
       "      <td>2021-01-24 15:09:35</td>\n",
       "      <td>2021-01-24 15:14:39</td>\n",
       "      <td>TA1307000038</td>\n",
       "      <td>TA1308000049</td>\n",
       "      <td>member</td>\n",
       "      <td>30.5</td>\n",
       "      <td>5.0</td>\n",
       "    </tr>\n",
       "  </tbody>\n",
       "</table>\n",
       "</div>"
      ],
      "text/plain": [
       "            ride_id rideable_type          started_at            ended_at  \\\n",
       "0  B9F73448DFBE0D45  classic_bike 2021-01-24 19:15:38 2021-01-24 19:22:51   \n",
       "1  9D08A3AFF410474D  classic_bike 2021-01-24 15:56:59 2021-01-24 16:07:08   \n",
       "2  43DB7DCE2339EC6D  classic_bike 2021-01-24 13:45:19 2021-01-24 14:14:38   \n",
       "3  566DC7E87184417D  classic_bike 2021-01-24 10:11:38 2021-01-24 10:22:01   \n",
       "4  230BD5A777C9CB90  classic_bike 2021-01-24 15:09:35 2021-01-24 15:14:39   \n",
       "\n",
       "  start_station_id end_station_id member_casual  average_temp  duration  \n",
       "0            17660            657        member          30.5       7.0  \n",
       "1            17660            657        casual          30.5      10.0  \n",
       "2            17660   TA1309000058        member          30.5      29.0  \n",
       "3            15623   TA1309000066        member          30.5      10.0  \n",
       "4     TA1307000038   TA1308000049        member          30.5       5.0  "
      ]
     },
     "execution_count": 35,
     "metadata": {},
     "output_type": "execute_result"
    }
   ],
   "source": [
    "trip_df['duration'] = (trip_df['ended_at'] - trip_df['started_at']).astype('timedelta64[m]')\n",
    "trip_df.head(5)"
   ]
  },
  {
   "cell_type": "markdown",
   "metadata": {},
   "source": [
    "- Join bike_type key into trip data"
   ]
  },
  {
   "cell_type": "code",
   "execution_count": 36,
   "metadata": {},
   "outputs": [],
   "source": [
    "trip_df = pd.merge(trip_df, bike_type_df, left_on='rideable_type', right_on='bike_type', how='inner') \\\n",
    "            .drop(['rideable_type', 'bike_type'], axis=1)"
   ]
  },
  {
   "cell_type": "markdown",
   "metadata": {},
   "source": [
    "- Join member_type key into trip data"
   ]
  },
  {
   "cell_type": "code",
   "execution_count": 37,
   "metadata": {},
   "outputs": [],
   "source": [
    "trip_df = pd.merge(trip_df, member_type_df, left_on='member_casual', right_on='member_type', how='inner') \\\n",
    "            .drop(['member_casual', 'member_type'], axis=1)"
   ]
  },
  {
   "cell_type": "code",
   "execution_count": 38,
   "metadata": {},
   "outputs": [
    {
     "data": {
      "text/html": [
       "<div>\n",
       "<style scoped>\n",
       "    .dataframe tbody tr th:only-of-type {\n",
       "        vertical-align: middle;\n",
       "    }\n",
       "\n",
       "    .dataframe tbody tr th {\n",
       "        vertical-align: top;\n",
       "    }\n",
       "\n",
       "    .dataframe thead th {\n",
       "        text-align: right;\n",
       "    }\n",
       "</style>\n",
       "<table border=\"1\" class=\"dataframe\">\n",
       "  <thead>\n",
       "    <tr style=\"text-align: right;\">\n",
       "      <th></th>\n",
       "      <th>ride_id</th>\n",
       "      <th>started_at</th>\n",
       "      <th>ended_at</th>\n",
       "      <th>start_station_id</th>\n",
       "      <th>end_station_id</th>\n",
       "      <th>average_temp</th>\n",
       "      <th>duration</th>\n",
       "      <th>bike_type_id</th>\n",
       "      <th>member_type_id</th>\n",
       "    </tr>\n",
       "  </thead>\n",
       "  <tbody>\n",
       "    <tr>\n",
       "      <th>0</th>\n",
       "      <td>B9F73448DFBE0D45</td>\n",
       "      <td>2021-01-24 19:15:38</td>\n",
       "      <td>2021-01-24 19:22:51</td>\n",
       "      <td>17660</td>\n",
       "      <td>657</td>\n",
       "      <td>30.5</td>\n",
       "      <td>7.0</td>\n",
       "      <td>1</td>\n",
       "      <td>1</td>\n",
       "    </tr>\n",
       "    <tr>\n",
       "      <th>1</th>\n",
       "      <td>43DB7DCE2339EC6D</td>\n",
       "      <td>2021-01-24 13:45:19</td>\n",
       "      <td>2021-01-24 14:14:38</td>\n",
       "      <td>17660</td>\n",
       "      <td>TA1309000058</td>\n",
       "      <td>30.5</td>\n",
       "      <td>29.0</td>\n",
       "      <td>1</td>\n",
       "      <td>1</td>\n",
       "    </tr>\n",
       "    <tr>\n",
       "      <th>2</th>\n",
       "      <td>566DC7E87184417D</td>\n",
       "      <td>2021-01-24 10:11:38</td>\n",
       "      <td>2021-01-24 10:22:01</td>\n",
       "      <td>15623</td>\n",
       "      <td>TA1309000066</td>\n",
       "      <td>30.5</td>\n",
       "      <td>10.0</td>\n",
       "      <td>1</td>\n",
       "      <td>1</td>\n",
       "    </tr>\n",
       "    <tr>\n",
       "      <th>3</th>\n",
       "      <td>230BD5A777C9CB90</td>\n",
       "      <td>2021-01-24 15:09:35</td>\n",
       "      <td>2021-01-24 15:14:39</td>\n",
       "      <td>TA1307000038</td>\n",
       "      <td>TA1308000049</td>\n",
       "      <td>30.5</td>\n",
       "      <td>5.0</td>\n",
       "      <td>1</td>\n",
       "      <td>1</td>\n",
       "    </tr>\n",
       "    <tr>\n",
       "      <th>4</th>\n",
       "      <td>28CE185B7EDFFA59</td>\n",
       "      <td>2021-01-24 17:28:33</td>\n",
       "      <td>2021-01-24 17:33:49</td>\n",
       "      <td>KA1503000044</td>\n",
       "      <td>KA1503000012</td>\n",
       "      <td>30.5</td>\n",
       "      <td>5.0</td>\n",
       "      <td>1</td>\n",
       "      <td>1</td>\n",
       "    </tr>\n",
       "  </tbody>\n",
       "</table>\n",
       "</div>"
      ],
      "text/plain": [
       "            ride_id          started_at            ended_at start_station_id  \\\n",
       "0  B9F73448DFBE0D45 2021-01-24 19:15:38 2021-01-24 19:22:51            17660   \n",
       "1  43DB7DCE2339EC6D 2021-01-24 13:45:19 2021-01-24 14:14:38            17660   \n",
       "2  566DC7E87184417D 2021-01-24 10:11:38 2021-01-24 10:22:01            15623   \n",
       "3  230BD5A777C9CB90 2021-01-24 15:09:35 2021-01-24 15:14:39     TA1307000038   \n",
       "4  28CE185B7EDFFA59 2021-01-24 17:28:33 2021-01-24 17:33:49     KA1503000044   \n",
       "\n",
       "  end_station_id  average_temp  duration  bike_type_id  member_type_id  \n",
       "0            657          30.5       7.0             1               1  \n",
       "1   TA1309000058          30.5      29.0             1               1  \n",
       "2   TA1309000066          30.5      10.0             1               1  \n",
       "3   TA1308000049          30.5       5.0             1               1  \n",
       "4   KA1503000012          30.5       5.0             1               1  "
      ]
     },
     "execution_count": 38,
     "metadata": {},
     "output_type": "execute_result"
    }
   ],
   "source": [
    "# The complete dataframe for fact_trip table\n",
    "trip_df.head(5)"
   ]
  },
  {
   "cell_type": "markdown",
   "metadata": {},
   "source": [
    "#### **4.1.2 Load data into data warehouse**"
   ]
  },
  {
   "cell_type": "markdown",
   "metadata": {},
   "source": [
    "##### **Connect to data warehouse hosted in Postgres**"
   ]
  },
  {
   "cell_type": "code",
   "execution_count": 39,
   "metadata": {},
   "outputs": [],
   "source": [
    "config = configparser.ConfigParser()\n",
    "config.read('db_credentials.cfg')\n",
    "conn = psycopg2.connect(host=config['POSTGRES']['host'], user=config['POSTGRES']['user'], password=config['POSTGRES']['password'], \n",
    "                        database=config['POSTGRES']['default_db'])\n",
    "conn.set_session(autocommit=True)\n",
    "cur = conn.cursor()"
   ]
  },
  {
   "cell_type": "markdown",
   "metadata": {},
   "source": [
    "##### **Create database for data warehouse**"
   ]
  },
  {
   "cell_type": "code",
   "execution_count": 40,
   "metadata": {},
   "outputs": [],
   "source": [
    "# create trip_dwh database with UTF8 encoding\n",
    "cur.execute(f\"DROP DATABASE IF EXISTS {config['DWH']['name']}\")\n",
    "cur.execute(f\"CREATE DATABASE {config['DWH']['name']} WITH ENCODING 'utf8' TEMPLATE template0\")\n",
    "\n",
    "# close connection to default database\n",
    "conn.close()    \n",
    "    \n",
    "# connect to trip_dwh database\n",
    "conn = psycopg2.connect(host=config['POSTGRES']['host'], user=config['POSTGRES']['user'], password=config['POSTGRES']['password'],\n",
    "                        database=config['DWH']['name'])\n",
    "conn.set_session(autocommit=True)\n",
    "cur = conn.cursor()"
   ]
  },
  {
   "cell_type": "markdown",
   "metadata": {},
   "source": [
    "##### **Create tables for data warehouse**"
   ]
  },
  {
   "cell_type": "code",
   "execution_count": 41,
   "metadata": {},
   "outputs": [],
   "source": [
    "for create_querry in sql_queries.create_table_sql:\n",
    "    cur.execute(create_querry)"
   ]
  },
  {
   "cell_type": "markdown",
   "metadata": {},
   "source": [
    "##### **Load data into data warehouse**"
   ]
  },
  {
   "cell_type": "code",
   "execution_count": 42,
   "metadata": {},
   "outputs": [],
   "source": [
    "table_data_dict = OrderedDict({'dim_station': station_df, 'dim_bike_type': bike_type_df, 'dim_time': time_df, \n",
    "                    'dim_member_type': member_type_df, 'fact_trip': trip_df})"
   ]
  },
  {
   "cell_type": "code",
   "execution_count": 43,
   "metadata": {},
   "outputs": [],
   "source": [
    "for table, data in table_data_dict.items():\n",
    "    buffer = StringIO()\n",
    "    data.to_csv(buffer, header=False, index=False)\n",
    "    buffer.seek(0)\n",
    "    cur.copy_from(buffer, table, sep=',')"
   ]
  },
  {
   "cell_type": "markdown",
   "metadata": {},
   "source": [
    "### **4.2 DATA QUALITY CHECK**"
   ]
  },
  {
   "cell_type": "markdown",
   "metadata": {},
   "source": [
    "#### **4.2.1 Check integrity of primary key in tables**"
   ]
  },
  {
   "cell_type": "code",
   "execution_count": 44,
   "metadata": {},
   "outputs": [
    {
     "name": "stdout",
     "output_type": "stream",
     "text": [
      "Data quality check for primary key of fact_trip table passed.\n",
      "Data quality check for primary key of dim_station table passed.\n",
      "Data quality check for primary key of dim_time table passed.\n",
      "Data quality check for primary key of dim_bike_type table passed.\n",
      "Data quality check for primary key of dim_member_type table passed.\n"
     ]
    }
   ],
   "source": [
    "table_primary_col = {'fact_trip': 'trip_id', 'dim_station': 'station_id', 'dim_time': 'time', \n",
    "                    'dim_bike_type': 'bike_type_id', 'dim_member_type': 'member_type_id'}\n",
    "\n",
    "for table, primary_col in table_primary_col.items():\n",
    "    QualityCheck.check_primary_key_integrity(cur, table, primary_col)"
   ]
  },
  {
   "cell_type": "markdown",
   "metadata": {},
   "source": [
    "#### **4.2.2 Check row number in tables**"
   ]
  },
  {
   "cell_type": "code",
   "execution_count": 45,
   "metadata": {},
   "outputs": [
    {
     "name": "stdout",
     "output_type": "stream",
     "text": [
      "Data quality check on row number passed. Table fact_trip contains 4555485 rows.\n",
      "Data quality check on row number passed. Table dim_station contains 832 rows.\n",
      "Data quality check on row number passed. Table dim_time contains 6837047 rows.\n",
      "Data quality check on row number passed. Table dim_bike_type contains 3 rows.\n",
      "Data quality check on row number passed. Table dim_member_type contains 2 rows.\n"
     ]
    }
   ],
   "source": [
    "for table in table_primary_col:\n",
    "    QualityCheck.check_row_number(cur, table)"
   ]
  },
  {
   "cell_type": "markdown",
   "metadata": {},
   "source": [
    "### **4.3 Data dictionary**\n",
    "#### **Table fact_trip**\n",
    "|    **Column**    |                  **Description**                 |\n",
    "|:----------------:|:------------------------------------------------:|\n",
    "| trip_id          | Id of the trip                                   |\n",
    "| start_time       | Start time of the trip                           |\n",
    "| end_time         | End time of the trip                             |\n",
    "| start_station_id | Start station of the trip                        |\n",
    "| end_station_id   | End station of the trip                          |\n",
    "| temperature      | Temperature of the date when trip took place (F) |\n",
    "| duration         | Duration of the trip (minutes)                   |\n",
    "| bike_type_id     | Type of bike used in the trip                    |\n",
    "| member_type_id   | Customer's member type of the trip               |\n",
    "#### **Table dim_station**\n",
    "|  **Column**  |      **Description**     |\n",
    "|:------------:|:------------------------:|\n",
    "| station_id   | Id of  the station       |\n",
    "| station_name | Name of the station      |\n",
    "| station_lat  | Latitude of the station  |\n",
    "| station_lng  | Longitude of the station |\n",
    "#### **Table dim_time**\n",
    "| **Column** |     **Description**     |\n",
    "|:----------:|:-----------------------:|\n",
    "| time       | Time of the trip        |\n",
    "| year       | Year of the trip        |\n",
    "| month      | Month of the trip       |\n",
    "| date       | Date of the trip        |\n",
    "| weekday    | Day of week of the trip |\n",
    "| hour       | Hour of the trip        |\n",
    "#### **Table dim_bike_type**\n",
    "|  **Column**  | **Description** |\n",
    "|:------------:|:---------------:|\n",
    "| bike_type_id | Id of bike type |\n",
    "| bike_type    | Bike type name  |\n",
    "#### **Table dim_member_type**\n",
    "|   **Column**   |  **Description**  |\n",
    "|:--------------:|:-----------------:|\n",
    "| member_type_id | Id of member type |\n",
    "| member_type    | Member type name  |\n"
   ]
  },
  {
   "cell_type": "markdown",
   "metadata": {},
   "source": [
    "### **4.4 Data visualization and analysis**\n",
    "This part does some data visualization and analysis using the data from the data warehouse just created. The business questions are listed in **`project scope`** can be answered using these analysis."
   ]
  },
  {
   "cell_type": "markdown",
   "metadata": {},
   "source": [
    "#### **Monthly analysis**"
   ]
  },
  {
   "cell_type": "code",
   "execution_count": 46,
   "metadata": {},
   "outputs": [],
   "source": [
    "monthly_trip_sqlq = '''\n",
    "    SELECT month, COUNT(trip_id), AVG(duration) \n",
    "    FROM fact_trip\n",
    "    JOIN dim_time ON fact_trip.start_time = dim_time.time\n",
    "    GROUP BY month\n",
    "'''\n",
    "cur.execute(monthly_trip_sqlq)\n",
    "monthly_trip_data = cur.fetchall()\n",
    "monthly_trip_df = pd.DataFrame(data=monthly_trip_data, columns=['month', 'trip_count', 'avg_using_time'])"
   ]
  },
  {
   "cell_type": "code",
   "execution_count": 47,
   "metadata": {},
   "outputs": [
    {
     "data": {
      "text/plain": [
       "[Text(0, 0, 'Jan'),\n",
       " Text(1, 0, 'Mar'),\n",
       " Text(2, 0, 'Feb'),\n",
       " Text(3, 0, 'Apr'),\n",
       " Text(4, 0, 'May'),\n",
       " Text(5, 0, 'Jun'),\n",
       " Text(6, 0, 'Jul'),\n",
       " Text(7, 0, 'Aug'),\n",
       " Text(8, 0, 'Sep'),\n",
       " Text(9, 0, 'Oct'),\n",
       " Text(10, 0, 'Nov'),\n",
       " Text(11, 0, 'Dec')]"
      ]
     },
     "execution_count": 47,
     "metadata": {},
     "output_type": "execute_result"
    },
    {
     "data": {
      "image/png": "[encoded data removed]",
      "text/plain": [
       "<Figure size 1152x432 with 2 Axes>"
      ]
     },
     "metadata": {
      "needs_background": "light"
     },
     "output_type": "display_data"
    }
   ],
   "source": [
    "fig, ax = plt.subplots(nrows=1, ncols=2, figsize=(16,6))\n",
    "sns.barplot(x='month', y='trip_count', data=monthly_trip_df, palette='deep', ax=ax[0])\n",
    "ax[0].set_title('Monthly total number of trips', fontsize=16)\n",
    "ax[0].set_xlabel('Month', fontsize=13)\n",
    "ax[0].set_ylabel('Number of trips', fontsize=13)\n",
    "ax[0].set_xticklabels(labels=['Jan', 'Mar', 'Feb', 'Apr', 'May', 'Jun', 'Jul', 'Aug', 'Sep', 'Oct', 'Nov', 'Dec'])\n",
    "sns.barplot(x='month', y='avg_using_time', data=monthly_trip_df, palette='deep', ax=ax[1])\n",
    "ax[1].set_title('Monthly average using time per one trip', fontsize=16)\n",
    "ax[1].set_xlabel('Month', fontsize=13)\n",
    "ax[1].set_ylabel('Average using time (min)', fontsize=13)\n",
    "ax[1].set_xticklabels(labels=['Jan', 'Mar', 'Feb', 'Apr', 'May', 'Jun', 'Jul', 'Aug', 'Sep', 'Oct', 'Nov', 'Dec'])"
   ]
  },
  {
   "cell_type": "markdown",
   "metadata": {},
   "source": [
    "- From the graph, people in Chicago tended to use bike from June to September.\n",
    "- While in May, the number of trips ranks 6th but having the longest duration of each bike trip"
   ]
  },
  {
   "cell_type": "markdown",
   "metadata": {},
   "source": [
    "#### **Daily analysis**"
   ]
  },
  {
   "cell_type": "code",
   "execution_count": 48,
   "metadata": {},
   "outputs": [],
   "source": [
    "daily_trip_sqlq = '''\n",
    "    SELECT weekday, COUNT(trip_id), AVG(duration) \n",
    "    FROM fact_trip\n",
    "    JOIN dim_time ON fact_trip.start_time = dim_time.time\n",
    "    GROUP BY weekday\n",
    "'''\n",
    "cur.execute(daily_trip_sqlq)\n",
    "daily_trip_data = cur.fetchall()\n",
    "daily_trip_df = pd.DataFrame(data=daily_trip_data, columns=['weekday', 'trip_count', 'avg_using_time'])\n",
    "daily_trip_df['weekday'] = daily_trip_df['weekday'].str[0:3]"
   ]
  },
  {
   "cell_type": "code",
   "execution_count": 49,
   "metadata": {},
   "outputs": [
    {
     "data": {
      "text/plain": [
       "Text(0, 0.5, 'Average using time (min)')"
      ]
     },
     "execution_count": 49,
     "metadata": {},
     "output_type": "execute_result"
    },
    {
     "data": {
      "image/png": "[encoded data removed]",
      "text/plain": [
       "<Figure size 1152x432 with 2 Axes>"
      ]
     },
     "metadata": {
      "needs_background": "light"
     },
     "output_type": "display_data"
    }
   ],
   "source": [
    "fig, ax = plt.subplots(nrows=1, ncols=2, figsize=(16,6))\n",
    "col_ord = ['Mon', 'Tue', 'Wed', 'Thu', 'Fri', 'Sat', 'Sun']\n",
    "sns.barplot(x='weekday', y='trip_count', data=daily_trip_df, palette='deep', order=col_ord, ax=ax[0])\n",
    "ax[0].set_title('Daily total number of trips', fontsize=16)\n",
    "ax[0].set_xlabel('Weekday', fontsize=13)\n",
    "ax[0].set_ylabel('Number of trips', fontsize=13)\n",
    "sns.barplot(x='weekday', y='avg_using_time', data=daily_trip_df, palette='deep', order=col_ord, ax=ax[1])\n",
    "ax[1].set_title('Daily average using time per one trip', fontsize=16)\n",
    "ax[1].set_xlabel('Weekday', fontsize=13)\n",
    "ax[1].set_ylabel('Average using time (min)', fontsize=13)"
   ]
  },
  {
   "cell_type": "markdown",
   "metadata": {},
   "source": [
    "- As we can see that people used bike as their vehicals more at the weekend, especially on Saturday.\n",
    "- The average using time per one trip at the weekend is higher than other weekdays."
   ]
  },
  {
   "cell_type": "markdown",
   "metadata": {},
   "source": [
    "#### **Hourly analysis**"
   ]
  },
  {
   "cell_type": "code",
   "execution_count": 50,
   "metadata": {},
   "outputs": [],
   "source": [
    "hourly_trip_sqlq = '''\n",
    "    SELECT hour, COUNT(trip_id), AVG(duration) \n",
    "    FROM fact_trip\n",
    "    JOIN dim_time ON fact_trip.start_time = dim_time.time\n",
    "    GROUP BY hour\n",
    "'''\n",
    "cur.execute(hourly_trip_sqlq)\n",
    "hourly_trip_data = cur.fetchall()\n",
    "hourly_trip_df = pd.DataFrame(data=hourly_trip_data, columns=['hour', 'trip_count', 'avg_using_time'])"
   ]
  },
  {
   "cell_type": "code",
   "execution_count": 51,
   "metadata": {},
   "outputs": [
    {
     "data": {
      "text/plain": [
       "Text(0, 0.5, 'Average using time (min)')"
      ]
     },
     "execution_count": 51,
     "metadata": {},
     "output_type": "execute_result"
    },
    {
     "data": {
      "image/png": "[encoded data removed]",
      "text/plain": [
       "<Figure size 1152x432 with 2 Axes>"
      ]
     },
     "metadata": {
      "needs_background": "light"
     },
     "output_type": "display_data"
    }
   ],
   "source": [
    "fig, ax = plt.subplots(nrows=1, ncols=2, figsize=(16,6))\n",
    "sns.barplot(x='hour', y='trip_count', data=hourly_trip_df, palette='deep', ax=ax[0])\n",
    "ax[0].set_title('Hourly total number of trips', fontsize=16)\n",
    "ax[0].set_xlabel('Hour', fontsize=13)\n",
    "ax[0].set_ylabel('Number of trips', fontsize=13)\n",
    "sns.barplot(x='hour', y='avg_using_time', data=hourly_trip_df, palette='deep', ax=ax[1])\n",
    "ax[1].set_title('Hourly average using time per one trip', fontsize=16)\n",
    "ax[1].set_xlabel('Hour', fontsize=13)\n",
    "ax[1].set_ylabel('Average using time (min)', fontsize=13)"
   ]
  },
  {
   "cell_type": "markdown",
   "metadata": {},
   "source": [
    "- Rush hours of bicycle use is around the dusk time of the day.\n",
    "- Whereas, people has longer trip at dawn time and midday."
   ]
  },
  {
   "cell_type": "markdown",
   "metadata": {},
   "source": [
    "#### **Member type analysis**"
   ]
  },
  {
   "cell_type": "code",
   "execution_count": 52,
   "metadata": {},
   "outputs": [],
   "source": [
    "member_sqlq = '''\n",
    "    SELECT member_type, COUNT(member_type), AVG(duration)\n",
    "    FROM fact_trip\n",
    "    JOIN dim_member_type\n",
    "    ON fact_trip.member_type_id = dim_member_type.member_type_id\n",
    "    GROUP BY member_type\n",
    "'''\n",
    "cur.execute(member_sqlq)\n",
    "member_analysis_data = cur.fetchall()\n",
    "member_analysis_df = pd.DataFrame(data=member_analysis_data, columns=['member_type', 'trip_count', 'avg_using_time'])"
   ]
  },
  {
   "cell_type": "code",
   "execution_count": 53,
   "metadata": {},
   "outputs": [
    {
     "data": {
      "text/plain": [
       "Text(0, 0.5, 'Average using time (min)')"
      ]
     },
     "execution_count": 53,
     "metadata": {},
     "output_type": "execute_result"
    },
    {
     "data": {
      "image/png": "[encoded data removed]",
      "text/plain": [
       "<Figure size 1152x432 with 2 Axes>"
      ]
     },
     "metadata": {
      "needs_background": "light"
     },
     "output_type": "display_data"
    }
   ],
   "source": [
    "fig, ax = plt.subplots(nrows=1, ncols=2, figsize=(16,6))\n",
    "sns.barplot(x='member_type', y='trip_count', data=member_analysis_df, palette='deep', ax=ax[0])\n",
    "ax[0].set_title('Total number of trips for each member type', fontsize=16)\n",
    "ax[0].set_xlabel('Member type', fontsize=13)\n",
    "ax[0].set_ylabel('Number of trips', fontsize=13)\n",
    "sns.barplot(x='member_type', y='avg_using_time', data=member_analysis_df, palette='deep', ax=ax[1])\n",
    "ax[1].set_title('Average using time per one trip for each member type', fontsize=16)\n",
    "ax[1].set_xlabel('Member type', fontsize=13)\n",
    "ax[1].set_ylabel('Average using time (min)', fontsize=13)"
   ]
  },
  {
   "cell_type": "markdown",
   "metadata": {},
   "source": [
    "- Number of trip taken by casual member is less then normal member, but the trip duration of casual member doubles that of normal member."
   ]
  },
  {
   "cell_type": "markdown",
   "metadata": {},
   "source": [
    "#### **Bike type analysis**"
   ]
  },
  {
   "cell_type": "code",
   "execution_count": 54,
   "metadata": {},
   "outputs": [],
   "source": [
    "bike_sqlq = '''\n",
    "    SELECT bike_type, COUNT(bike_type), AVG(duration)\n",
    "    FROM fact_trip\n",
    "    JOIN dim_bike_type\n",
    "    ON fact_trip.bike_type_id = dim_bike_type.bike_type_id\n",
    "    GROUP BY bike_type\n",
    "'''\n",
    "cur.execute(bike_sqlq)\n",
    "bike_analysis_data = cur.fetchall()\n",
    "bike_analysis_df = pd.DataFrame(data=bike_analysis_data, columns=['bike_type', 'trip_count', 'avg_using_time'])"
   ]
  },
  {
   "cell_type": "code",
   "execution_count": 55,
   "metadata": {},
   "outputs": [
    {
     "data": {
      "text/plain": [
       "Text(0, 0.5, 'Average using time (min)')"
      ]
     },
     "execution_count": 55,
     "metadata": {},
     "output_type": "execute_result"
    },
    {
     "data": {
      "image/png": "[encoded data removed]",
      "text/plain": [
       "<Figure size 1152x432 with 2 Axes>"
      ]
     },
     "metadata": {
      "needs_background": "light"
     },
     "output_type": "display_data"
    }
   ],
   "source": [
    "fig, ax = plt.subplots(nrows=1, ncols=2, figsize=(16,6))\n",
    "sns.barplot(x='bike_type', y='trip_count', data=bike_analysis_df, palette='deep', ax=ax[0])\n",
    "ax[0].set_title('Total number of trips for each bike type', fontsize=16)\n",
    "ax[0].set_xlabel('Bike type', fontsize=13)\n",
    "ax[0].set_ylabel('Number of trips', fontsize=13)\n",
    "sns.barplot(x='bike_type', y='avg_using_time', data=bike_analysis_df, palette='deep', ax=ax[1])\n",
    "ax[1].set_title('Average using time per one trip for each bike type', fontsize=16)\n",
    "ax[1].set_xlabel('Bike type', fontsize=13)\n",
    "ax[1].set_ylabel('Average using time (min)', fontsize=13)"
   ]
  },
  {
   "cell_type": "markdown",
   "metadata": {},
   "source": [
    "- Classic bike type has the largest number of uses over 2 others, almost 7 times that of docked bike type. By contrast, docked bike type is the type owned longest average using time per one trip."
   ]
  },
  {
   "cell_type": "markdown",
   "metadata": {},
   "source": [
    "#### **Traffic distribution for each station**"
   ]
  },
  {
   "cell_type": "code",
   "execution_count": 56,
   "metadata": {},
   "outputs": [
    {
     "data": {
      "text/html": [
       "<div>\n",
       "<style scoped>\n",
       "    .dataframe tbody tr th:only-of-type {\n",
       "        vertical-align: middle;\n",
       "    }\n",
       "\n",
       "    .dataframe tbody tr th {\n",
       "        vertical-align: top;\n",
       "    }\n",
       "\n",
       "    .dataframe thead th {\n",
       "        text-align: right;\n",
       "    }\n",
       "</style>\n",
       "<table border=\"1\" class=\"dataframe\">\n",
       "  <thead>\n",
       "    <tr style=\"text-align: right;\">\n",
       "      <th></th>\n",
       "      <th>start_lat</th>\n",
       "      <th>start_lng</th>\n",
       "      <th>end_lat</th>\n",
       "      <th>end_lng</th>\n",
       "    </tr>\n",
       "  </thead>\n",
       "  <tbody>\n",
       "    <tr>\n",
       "      <th>0</th>\n",
       "      <td>41.900363</td>\n",
       "      <td>-87.696704</td>\n",
       "      <td>41.899181</td>\n",
       "      <td>-87.672200</td>\n",
       "    </tr>\n",
       "    <tr>\n",
       "      <th>1</th>\n",
       "      <td>41.900363</td>\n",
       "      <td>-87.696704</td>\n",
       "      <td>41.924220</td>\n",
       "      <td>-87.646390</td>\n",
       "    </tr>\n",
       "    <tr>\n",
       "      <th>2</th>\n",
       "      <td>41.961526</td>\n",
       "      <td>-87.691165</td>\n",
       "      <td>41.969090</td>\n",
       "      <td>-87.674237</td>\n",
       "    </tr>\n",
       "    <tr>\n",
       "      <th>3</th>\n",
       "      <td>41.911386</td>\n",
       "      <td>-87.638677</td>\n",
       "      <td>41.906706</td>\n",
       "      <td>-87.635211</td>\n",
       "    </tr>\n",
       "    <tr>\n",
       "      <th>4</th>\n",
       "      <td>41.890407</td>\n",
       "      <td>-87.626235</td>\n",
       "      <td>41.886021</td>\n",
       "      <td>-87.630876</td>\n",
       "    </tr>\n",
       "  </tbody>\n",
       "</table>\n",
       "</div>"
      ],
      "text/plain": [
       "   start_lat  start_lng    end_lat    end_lng\n",
       "0  41.900363 -87.696704  41.899181 -87.672200\n",
       "1  41.900363 -87.696704  41.924220 -87.646390\n",
       "2  41.961526 -87.691165  41.969090 -87.674237\n",
       "3  41.911386 -87.638677  41.906706 -87.635211\n",
       "4  41.890407 -87.626235  41.886021 -87.630876"
      ]
     },
     "execution_count": 56,
     "metadata": {},
     "output_type": "execute_result"
    }
   ],
   "source": [
    "station_analysis_sqlq = '''\n",
    "    SELECT s1.station_lat as start_lat, s1.station_lng as start_lng,  s2.station_lat as end_lat, s2.station_lng as end_lng\n",
    "    FROM fact_trip t\n",
    "    JOIN dim_station s1 ON t.start_station_id = s1.station_id\n",
    "    JOIN dim_station s2 ON t.end_station_id = s2.station_id\n",
    "'''\n",
    "cur.execute(station_analysis_sqlq)\n",
    "station_analysis_data = cur.fetchall()\n",
    "station_analysis_df = pd.DataFrame(data=station_analysis_data, columns=['start_lat', 'start_lng', 'end_lat', 'end_lng'])\n",
    "station_analysis_df.head()"
   ]
  },
  {
   "cell_type": "code",
   "execution_count": 57,
   "metadata": {},
   "outputs": [
    {
     "data": {
      "text/plain": [
       "Text(0, 0.5, 'Longitude')"
      ]
     },
     "execution_count": 57,
     "metadata": {},
     "output_type": "execute_result"
    },
    {
     "data": {
      "image/png": "[encoded data removed]",
      "text/plain": [
       "<Figure size 1152x432 with 2 Axes>"
      ]
     },
     "metadata": {
      "needs_background": "light"
     },
     "output_type": "display_data"
    }
   ],
   "source": [
    "fig, ax = plt.subplots(nrows=1, ncols=2, figsize=(16,6))\n",
    "sns.scatterplot(x='start_lat', y='start_lng', data=station_analysis_df, alpha=0.05, ax=ax[0])\n",
    "ax[0].set_title('Uses of station''s location where the trip starts', fontsize=16)\n",
    "ax[0].set_xlabel('Latitude', fontsize=13)\n",
    "ax[0].set_ylabel('Longitude', fontsize=13)\n",
    "sns.scatterplot(x='end_lat', y='end_lng', data=station_analysis_df, alpha=0.05, ax=ax[1])\n",
    "ax[1].set_title('Uses of station''s location where the trip ends', fontsize=16)\n",
    "ax[1].set_xlabel('Latitude', fontsize=13)\n",
    "ax[1].set_ylabel('Longitude', fontsize=13)"
   ]
  },
  {
   "cell_type": "markdown",
   "metadata": {},
   "source": [
    "#### **Effect of temperature on trip**"
   ]
  },
  {
   "cell_type": "code",
   "execution_count": 58,
   "metadata": {},
   "outputs": [],
   "source": [
    "temp_trip_sqlq = '''\n",
    "    SELECT temperature\n",
    "    FROM fact_trip\n",
    "'''\n",
    "cur.execute(temp_trip_sqlq)\n",
    "temp_trip_data = cur.fetchall()\n",
    "temp_trip_df = pd.DataFrame(data=temp_trip_data, columns=['temperature'])\n",
    "\n",
    "temp_using_time_sqlq = '''\n",
    "    SELECT temperature, AVG(duration)\n",
    "    FROM fact_trip\n",
    "    GROUP BY temperature\n",
    "'''\n",
    "cur.execute(temp_using_time_sqlq)\n",
    "temp_using_time_data = cur.fetchall()\n",
    "temp_using_time_df = pd.DataFrame(data=temp_using_time_data, columns=['temperature', 'avg_using_time'])"
   ]
  },
  {
   "cell_type": "code",
   "execution_count": 59,
   "metadata": {},
   "outputs": [
    {
     "data": {
      "text/plain": [
       "Text(0, 0.5, 'Average using time (min)')"
      ]
     },
     "execution_count": 59,
     "metadata": {},
     "output_type": "execute_result"
    },
    {
     "data": {
      "image/png": "[encoded data removed]",
      "text/plain": [
       "<Figure size 1152x432 with 2 Axes>"
      ]
     },
     "metadata": {
      "needs_background": "light"
     },
     "output_type": "display_data"
    }
   ],
   "source": [
    "fig, ax = plt.subplots(nrows=1, ncols=2, figsize=(16,6))\n",
    "sns.histplot(x=temp_trip_df['temperature'], ax=ax[0])\n",
    "ax[0].set_title('Trip count distribution by range of temerature', fontsize=16)\n",
    "ax[0].set_xlabel('Temperature (F)', fontsize=13)\n",
    "ax[0].set_ylabel('Number of trips', fontsize=13)\n",
    "sns.scatterplot(x='temperature', y='avg_using_time', data=temp_using_time_df, ax=ax[1])\n",
    "ax[1].set_title('Average using time per one trip by temperature range', fontsize=16)\n",
    "ax[1].set_xlabel('Temperature (F)', fontsize=13)\n",
    "ax[1].set_ylabel('Average using time (min)', fontsize=13)"
   ]
  },
  {
   "cell_type": "markdown",
   "metadata": {},
   "source": [
    "- Number of bike trip rises with the increase of temperature. People likely to use bike in temperature range of 70-80 degrees F. \n",
    "- Average using time per one trip also rises with the increase of temperature."
   ]
  },
  {
   "cell_type": "markdown",
   "metadata": {},
   "source": [
    "## **Step 5: Complete Project Write Up**\n",
    "### **Tools and technology**\n",
    " - `PostgresSQL` as data warehouse\n",
    " - `Python Pandas, Numpy` for cleaning and tranformation\n",
    " - `Matplotlib, Seaborn` for visualation\n",
    "\n",
    "To explain the use of Python and Postgres in this project, our data contains about 5-6 million rows and the analysis in this project isn't too complex so we can use these tools as one of our choice. But the choice of using an OLTP database as data warehouse not always a good idea. With more modern technology today, columnar database like [Redshift](https://aws.amazon.com/redshift/) is much more appropriate for data warehouse, especially when the data warehouse have to scale up - a very common situation nowadays. \n",
    "### **Data update frequency**\n",
    "- The data can be updated monthly or annually depends on the business context of the company. To do the batch ETL, we can use [Airflow](https://airflow.apache.org/), which is a very common and strong tool for orchestration.\n",
    "- For fact table and big dim tables, because of big size, we should do append-insert pattern for the sake of low cost.\n",
    "- For small dim tables, we can use truncate-insert to load the data into these tables\n",
    "### **Other things**\n",
    "- The data was increased by 100x.\n",
    "    - In this case, we should use [Spark](https://spark.apache.org/) with distributed cluster to process this amount of data.\n",
    "    <p align=\"center\">\n",
    "        <img src=\"./image/spark_logo.png\" width=\"60%\">\n",
    "    </p>\n",
    "- The data populates a dashboard that must be updated on a daily basis by 7am every day.\n",
    "    - We can use [Airflow](https://airflow.apache.org/) or any other orchestration tools to deal with this situation.\n",
    "    <p align=\"center\">\n",
    "        <img src=\"./image/airflow_logo.png\" width=\"60%\">\n",
    "    </p>\n",
    "- The database needed to be accessed by 100+ people.\n",
    "    - When the data warehouse scales up like this, we should leverage [Redshift](https://aws.amazon.com/redshift/) to deal with this traffic into data warehouse.\n",
    "    <p align=\"center\">\n",
    "        <img src=\"./image/redshift_logo.png\" width=\"60%\">\n",
    "    </p>"
   ]
  }
 ],
 "metadata": {
  "kernelspec": {
   "display_name": "Python 3.10.3 ('capstone_project_venv': venv)",
   "language": "python",
   "name": "python3"
  },
  "language_info": {
   "codemirror_mode": {
    "name": "ipython",
    "version": 3
   },
   "file_extension": ".py",
   "mimetype": "text/x-python",
   "name": "python",
   "nbconvert_exporter": "python",
   "pygments_lexer": "ipython3",
   "version": "3.10.3"
  },
  "orig_nbformat": 4,
  "vscode": {
   "interpreter": {
    "hash": "017180c8d98be420bd3092695de331ffacc1a0aabce6e62eb0c7e565f5b14594"
   }
  }
 },
 "nbformat": 4,
 "nbformat_minor": 2
}
